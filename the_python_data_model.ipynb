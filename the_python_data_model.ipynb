{
  "nbformat": 4,
  "nbformat_minor": 0,
  "metadata": {
    "colab": {
      "provenance": [],
      "authorship_tag": "ABX9TyNvb77n0PPajdDy+8JHrTy4",
      "include_colab_link": true
    },
    "kernelspec": {
      "name": "python3",
      "display_name": "Python 3"
    },
    "language_info": {
      "name": "python"
    }
  },
  "cells": [
    {
      "cell_type": "markdown",
      "metadata": {
        "id": "view-in-github",
        "colab_type": "text"
      },
      "source": [
        "<a href=\"https://colab.research.google.com/github/kangqiwang/myLeetcode/blob/master/the_python_data_model.ipynb\" target=\"_parent\"><img src=\"https://colab.research.google.com/assets/colab-badge.svg\" alt=\"Open In Colab\"/></a>"
      ]
    },
    {
      "cell_type": "code",
      "execution_count": null,
      "metadata": {
        "id": "-bggEbVI2VmK"
      },
      "outputs": [],
      "source": [
        "import collections\n",
        "\n",
        "Card = collections.namedtuple('Card', ['rank', 'suit'])\n",
        "\n",
        "class FrenchDeck:\n",
        "    ranks = [str(n) for n in range(2, 11)] + list('JQKA')\n",
        "    suits = 'spades diamonds clubs hearts'.split()\n",
        "\n",
        "    def __init__(self):\n",
        "        self._cards = [Card(rank, suit) for suit in self.suits\n",
        "                                        for rank in self.ranks]\n",
        "\n",
        "    def __len__(self):\n",
        "        return len(self._cards)\n",
        "\n",
        "    def __getitem__(self, position):\n",
        "        return self._cards[position]\n",
        "\n"
      ]
    },
    {
      "cell_type": "code",
      "source": [
        "beer_card = Card('7', 'diamonds')\n",
        "beer_card\n"
      ],
      "metadata": {
        "colab": {
          "base_uri": "https://localhost:8080/"
        },
        "id": "uWMdi6M-2X0u",
        "outputId": "b8eb5218-00eb-4537-fb9a-e0b5b6872186"
      },
      "execution_count": null,
      "outputs": [
        {
          "output_type": "execute_result",
          "data": {
            "text/plain": [
              "Card(rank='7', suit='diamonds')"
            ]
          },
          "metadata": {},
          "execution_count": 2
        }
      ]
    },
    {
      "cell_type": "code",
      "source": [
        "\n",
        "deck = FrenchDeck()\n",
        "deck[:3]"
      ],
      "metadata": {
        "colab": {
          "base_uri": "https://localhost:8080/"
        },
        "id": "JMIM_rTf2aC9",
        "outputId": "19867e8b-1397-4e5f-aa73-40fb1c5a7bf4"
      },
      "execution_count": null,
      "outputs": [
        {
          "output_type": "execute_result",
          "data": {
            "text/plain": [
              "[Card(rank='2', suit='spades'),\n",
              " Card(rank='3', suit='spades'),\n",
              " Card(rank='4', suit='spades')]"
            ]
          },
          "metadata": {},
          "execution_count": 3
        }
      ]
    },
    {
      "cell_type": "code",
      "source": [
        "deck[12::13]"
      ],
      "metadata": {
        "colab": {
          "base_uri": "https://localhost:8080/"
        },
        "id": "8uJ7XqYC2b1d",
        "outputId": "33b8a752-1d92-42f6-8f59-6a0db10d4cb7"
      },
      "execution_count": null,
      "outputs": [
        {
          "output_type": "execute_result",
          "data": {
            "text/plain": [
              "[Card(rank='A', suit='spades'),\n",
              " Card(rank='A', suit='diamonds'),\n",
              " Card(rank='A', suit='clubs'),\n",
              " Card(rank='A', suit='hearts')]"
            ]
          },
          "metadata": {},
          "execution_count": 4
        }
      ]
    },
    {
      "cell_type": "code",
      "source": [
        "Card('Q','hearts') in deck"
      ],
      "metadata": {
        "colab": {
          "base_uri": "https://localhost:8080/"
        },
        "id": "aDBDAS3o2dZf",
        "outputId": "a28663e3-47fb-4872-8da7-0e4f29f9e684"
      },
      "execution_count": null,
      "outputs": [
        {
          "output_type": "execute_result",
          "data": {
            "text/plain": [
              "True"
            ]
          },
          "metadata": {},
          "execution_count": 5
        }
      ]
    },
    {
      "cell_type": "code",
      "source": [
        "\"\"\"\n",
        "vector2d.py: a simplistic class demonstrating some special methods\n",
        "\n",
        "It is simplistic for didactic reasons. It lacks proper error handling,\n",
        "especially in the ``__add__`` and ``__mul__`` methods.\n",
        "\n",
        "This example is greatly expanded later in the book.\n",
        "\n",
        "Addition::\n",
        "\n",
        "    >>> v1 = Vector(2, 4)\n",
        "    >>> v2 = Vector(2, 1)\n",
        "    >>> v1 + v2\n",
        "    Vector(4, 5)\n",
        "\n",
        "Absolute value::\n",
        "\n",
        "    >>> v = Vector(3, 4)\n",
        "    >>> abs(v)\n",
        "    5.0\n",
        "\n",
        "Scalar multiplication::\n",
        "\n",
        "    >>> v * 3\n",
        "    Vector(9, 12)\n",
        "    >>> abs(v * 3)\n",
        "    15.0\n",
        "\n",
        "\"\"\"\n",
        "\n",
        "\n",
        "import math\n",
        "\n",
        "class Vector:\n",
        "\n",
        "    def __init__(self, x=0, y=0):\n",
        "        self.x = x\n",
        "        self.y = y\n",
        "\n",
        "    def __repr__(self):\n",
        "        return f'Vector({self.x!r}, {self.y!r})'\n",
        "\n",
        "    def __abs__(self):\n",
        "        return math.hypot(self.x, self.y)\n",
        "\n",
        "    def __bool__(self):\n",
        "        return bool(abs(self))\n",
        "\n",
        "    def __add__(self, other):\n",
        "        x = self.x + other.x\n",
        "        y = self.y + other.y\n",
        "        return Vector(x, y)\n",
        "\n",
        "    def __mul__(self, scalar):\n",
        "        return Vector(self.x * scalar, self.y * scalar)\n"
      ],
      "metadata": {
        "id": "LmByvZGu6q_V"
      },
      "execution_count": null,
      "outputs": []
    },
    {
      "cell_type": "code",
      "source": [
        "v1 = Vector(2, 4)\n",
        "v2 = Vector(2, 1)\n",
        "v1 + v2\n"
      ],
      "metadata": {
        "colab": {
          "base_uri": "https://localhost:8080/"
        },
        "id": "dGb7AIHK7lNf",
        "outputId": "ff6aacf7-fb1d-4f48-aaf5-9c39459c892a"
      },
      "execution_count": null,
      "outputs": [
        {
          "output_type": "execute_result",
          "data": {
            "text/plain": [
              "Vector(4, 5)"
            ]
          },
          "metadata": {},
          "execution_count": 11
        }
      ]
    },
    {
      "cell_type": "code",
      "source": [
        "def reverse(nums,i,j):\n",
        "  while i<j:\n",
        "      temp =  nums[i]\n",
        "      nums[i]=nums[j]\n",
        "      nums[j]=temp\n",
        "      j-=1\n",
        "      i+=1"
      ],
      "metadata": {
        "id": "PldNKwVh8681"
      },
      "execution_count": null,
      "outputs": []
    },
    {
      "cell_type": "code",
      "source": [
        "nums = [1,2,3,4,5,6,7,8]\n",
        "reverse(nums,0,3)\n",
        "print(nums)\n",
        "reverse(nums,4,7)\n",
        "print(nums)\n",
        "reverse(nums,0,7)\n",
        "print(nums)"
      ],
      "metadata": {
        "colab": {
          "base_uri": "https://localhost:8080/"
        },
        "id": "_YBSCvol9AXx",
        "outputId": "ba227533-0a13-4daf-8c02-d3adb15a70ee"
      },
      "execution_count": null,
      "outputs": [
        {
          "output_type": "stream",
          "name": "stdout",
          "text": [
            "[4, 3, 2, 1, 5, 6, 7, 8]\n",
            "[4, 3, 2, 1, 8, 7, 6, 5]\n",
            "[5, 6, 7, 8, 1, 2, 3, 4]\n"
          ]
        }
      ]
    },
    {
      "cell_type": "code",
      "source": [
        "prices=[7,1,5,3,6,4]\n",
        "profit = 0\n",
        "for i in range(len(prices)-1):\n",
        "    if prices[i] < prices[i+1]:\n",
        "      profit +=prices[i+1]-prices[i]\n",
        "print(profit)"
      ],
      "metadata": {
        "colab": {
          "base_uri": "https://localhost:8080/"
        },
        "id": "jy93j2HZEC90",
        "outputId": "7ef4a8c8-ecb4-45e7-f2fe-4e503b2b9dbe"
      },
      "execution_count": null,
      "outputs": [
        {
          "output_type": "stream",
          "name": "stdout",
          "text": [
            "7\n"
          ]
        }
      ]
    },
    {
      "cell_type": "code",
      "source": [
        "nums=[3,2,1,0,4]\n",
        "\n",
        "\n",
        "for i in range(len(nums)-2,-1,-1):\n",
        "    print(i)\n",
        "    if nums[i] >=len(nums)-1-i:\n",
        "        print(\"true\")\n",
        "        break\n",
        "print(\"false\")"
      ],
      "metadata": {
        "colab": {
          "base_uri": "https://localhost:8080/"
        },
        "id": "FGeYZ3C8W1ZW",
        "outputId": "ad73d976-a4f1-4e00-a1e9-03b5061888d9"
      },
      "execution_count": null,
      "outputs": [
        {
          "output_type": "stream",
          "name": "stdout",
          "text": [
            "3\n",
            "2\n",
            "1\n",
            "0\n",
            "false\n"
          ]
        }
      ]
    },
    {
      "cell_type": "code",
      "source": [
        "'''\n",
        "In this question we have to find the minimum number of jumps to reach the last index.\n",
        "So, we calculate the maximum index we can reach from the current index.\n",
        "If our pointer i reaches the last index that can be reached with current number of jumps then we have to make a jumps.\n",
        "So, we increase the count.\n",
        "\n",
        "'''\n",
        "nums = [2,3,1,1,4]\n",
        "\n",
        "ans =0\n",
        "end=0\n",
        "farthest = 0\n",
        "\n",
        "for i in range(len(nums)-1):\n",
        "    farthest = max(farthest,i+nums[i])\n",
        "    if i == end:\n",
        "        ans +=1\n",
        "        end = farthest\n",
        "print(ans)"
      ],
      "metadata": {
        "colab": {
          "base_uri": "https://localhost:8080/"
        },
        "id": "PbiWbBjRjCY3",
        "outputId": "3a56643b-22c8-4213-c8d5-33ab0686c3c1"
      },
      "execution_count": null,
      "outputs": [
        {
          "output_type": "stream",
          "name": "stdout",
          "text": [
            "2\n"
          ]
        }
      ]
    },
    {
      "cell_type": "code",
      "source": [
        "citations = [1,4,4,5,100]\n",
        "\n",
        "citations.sort(reverse=True)\n",
        "for idx,citation in enumerate(citations):\n",
        "    print(\"idx  \" +str(idx))\n",
        "    print(\"citation \" +str(citation))\n",
        "    if idx >= citation:\n",
        "        print(idx)\n",
        "        break\n",
        "#print(len(citations))"
      ],
      "metadata": {
        "colab": {
          "base_uri": "https://localhost:8080/"
        },
        "id": "B-Ko-u1NlMjZ",
        "outputId": "b44caba3-b39f-4c3c-941e-19e8bbd2c06d"
      },
      "execution_count": null,
      "outputs": [
        {
          "output_type": "stream",
          "name": "stdout",
          "text": [
            "idx0\n",
            "citation100\n",
            "idx1\n",
            "citation5\n",
            "idx2\n",
            "citation4\n",
            "idx3\n",
            "citation4\n",
            "idx4\n",
            "citation1\n",
            "4\n"
          ]
        }
      ]
    },
    {
      "cell_type": "code",
      "source": [
        "gas =[1,2,3,4,5]\n",
        "\n",
        "cost = [3,4,5,1,2]\n",
        "\n",
        "\n",
        "def checkIdx(idx,gas,cost):\n",
        "    tank= 0\n",
        "    stopCount=0\n",
        "    print(\"starting index:  \"+str(idx))\n",
        "    while stopCount<len(gas):\n",
        "        tank+= (gas[idx]-cost[idx])\n",
        "        print(tank)\n",
        "        if tank <0:\n",
        "          return False\n",
        "        idx = 0 if idx==len(gas)-1 else idx+1\n",
        "        stopCount +=1\n",
        "    return True\n",
        "\n",
        "def gas_station(gas,cost):\n",
        "  for i in range(len(gas)):\n",
        "      idx= -1\n",
        "      if gas[i] >= cost[i]:\n",
        "          if checkIdx(i,gas,cost):\n",
        "              return i\n",
        "  return -1\n",
        "\n",
        "gas_station(gas,cost)\n"
      ],
      "metadata": {
        "colab": {
          "base_uri": "https://localhost:8080/"
        },
        "id": "8bqwBw8NMPpl",
        "outputId": "e6f62099-1b9e-4d1b-89e2-26d251c16dd2"
      },
      "execution_count": null,
      "outputs": [
        {
          "output_type": "stream",
          "name": "stdout",
          "text": [
            "starting index:  3\n",
            "3\n",
            "6\n",
            "4\n",
            "2\n",
            "0\n"
          ]
        },
        {
          "output_type": "execute_result",
          "data": {
            "text/plain": [
              "3"
            ]
          },
          "metadata": {},
          "execution_count": 11
        }
      ]
    },
    {
      "cell_type": "code",
      "source": [
        "def gas_station_qick(gas,cost):\n",
        "  n,total_surplus,surplus,start = len(gas),0,0,0\n",
        "\n",
        "  for i in range(n):\n",
        "    total_surplus += gas[i]-cost[i]\n",
        "    surplus +=gas[i]-cost[i]\n",
        "    if surplus <0:\n",
        "      surplus = 0\n",
        "      start= i+1\n",
        "  return -1 if total_surplus<0 else start\n",
        "\n",
        "\n",
        "gas_station_qick(gas,cost)"
      ],
      "metadata": {
        "colab": {
          "base_uri": "https://localhost:8080/"
        },
        "id": "6X9pInAviBVu",
        "outputId": "0b0acddc-7499-44b8-ac5c-e3fbd87660ab"
      },
      "execution_count": null,
      "outputs": [
        {
          "output_type": "execute_result",
          "data": {
            "text/plain": [
              "3"
            ]
          },
          "metadata": {},
          "execution_count": 12
        }
      ]
    },
    {
      "cell_type": "code",
      "source": [
        "'''\n",
        "Greedy Algorithm\n",
        "\n",
        "'''\n",
        "def candy(ratings):\n",
        "  n = len(ratings)\n",
        "  candies = [1]*n\n",
        "  for i in range(1,n):\n",
        "    if ratings[i]> ratings[i-1]:\n",
        "      candies[i] = candies[i-1]+1\n",
        "  print(candies)\n",
        "\n",
        "  for i in range(n-2,-1,-1):\n",
        "    if ratings[i] > ratings[i+1]:\n",
        "      candies[i] = max(candies[i+1]+1,candies[i])\n",
        "  print(candies)\n",
        "\n",
        "candy([1,3,4,5,2])"
      ],
      "metadata": {
        "colab": {
          "base_uri": "https://localhost:8080/"
        },
        "id": "Gj97INFil41-",
        "outputId": "811d12b2-4083-48ec-d9d1-27a3b0f96b24"
      },
      "execution_count": null,
      "outputs": [
        {
          "output_type": "stream",
          "name": "stdout",
          "text": [
            "[1, 2, 3, 4, 1]\n",
            "[1, 2, 3, 4, 1]\n"
          ]
        }
      ]
    },
    {
      "cell_type": "code",
      "source": [
        "'''\n",
        "42. Trapping Rain Water\n",
        "Input: height = [0,1,0,2,1,0,1,3,2,1,2,1]\n",
        "Output: 6\n",
        "Explanation: The above elevation map (black section) is represented by array [0,1,0,2,1,0,1,3,2,1,2,1]. In this case, 6 units of rain water (blue section) are being trapped.\n",
        "\n",
        "first thought :\n",
        "\n",
        "calculate the value of between two value, it may cause overlap\n",
        "\n",
        "brue force a star\n",
        "but instead of a star, we can use list two pointer\n",
        "\n",
        "'''\n",
        "\n",
        "def trap(height):\n",
        "  n = len(height)\n",
        "  i=1\n",
        "  j=n-2\n",
        "  water = 0\n",
        "  maxLeft, maxRight = height[0], height[n-1]\n",
        "  while i<=j:\n",
        "    if maxLeft < maxRight:\n",
        "      if height[i] > maxLeft:\n",
        "        maxLeft = height[i]\n",
        "      else:\n",
        "        water += maxLeft -height[i]\n",
        "      i+=1\n",
        "    else:\n",
        "      if height[j] >maxRight:\n",
        "        maxRight = height[j]\n",
        "      else:\n",
        "        water += maxRight - height[j]\n",
        "      j-=1\n",
        "\n",
        "  return water\n",
        "\n",
        "trap([4,2,0,3,2,5])"
      ],
      "metadata": {
        "colab": {
          "base_uri": "https://localhost:8080/"
        },
        "id": "s41bD11TKMGy",
        "outputId": "31085bbd-aa42-4d5e-b59a-e0f3dd22c0de"
      },
      "execution_count": null,
      "outputs": [
        {
          "output_type": "execute_result",
          "data": {
            "text/plain": [
              "9"
            ]
          },
          "metadata": {},
          "execution_count": 11
        }
      ]
    },
    {
      "cell_type": "code",
      "source": [
        "'''\n",
        "12. Integer to Roman\n",
        "\n",
        "Example 1:\n",
        "\n",
        "Input: num = 3\n",
        "Output: \"III\"\n",
        "Explanation: 3 is represented as 3 ones.\n",
        "Example 2:\n",
        "\n",
        "Input: num = 58\n",
        "Output: \"LVIII\"\n",
        "Explanation: L = 50, V = 5, III = 3.\n",
        "Example 3:\n",
        "\n",
        "Input: num = 1994\n",
        "Output: \"MCMXCIV\"\n",
        "Explanation: M = 1000, CM = 900, XC = 90 and IV = 4.\n",
        "\n",
        "\n",
        "'''\n",
        "def intToRoman( num: int) -> str:\n",
        "  romanDic = {\n",
        "            1: \"I\",\n",
        "            5: \"V\",    4: \"IV\",\n",
        "            10: \"X\",   9: \"IX\",\n",
        "            50: \"L\",   40: \"XL\",\n",
        "            100: \"C\",  90: \"XC\",\n",
        "            500: \"D\",  400: \"CD\",\n",
        "            1000: \"M\", 900: \"CM\",\n",
        "  }\n",
        "  result = \"\"\n",
        "  romanDicKey =list(romanDic.keys())\n",
        "  romanDicKey.sort(reverse=True)\n",
        "\n",
        "  for n in romanDicKey:\n",
        "\n",
        "    while n <= num:\n",
        "      print(n)\n",
        "      result+=romanDic[n]\n",
        "      num-=n\n",
        "  return result\n",
        "\n",
        "intToRoman(100)\n"
      ],
      "metadata": {
        "colab": {
          "base_uri": "https://localhost:8080/",
          "height": 53
        },
        "id": "vUfATSJ3BpZV",
        "outputId": "024c9d5a-8e62-4875-f4c5-761f19491d37"
      },
      "execution_count": null,
      "outputs": [
        {
          "output_type": "stream",
          "name": "stdout",
          "text": [
            "100\n"
          ]
        },
        {
          "output_type": "execute_result",
          "data": {
            "text/plain": [
              "'C'"
            ],
            "application/vnd.google.colaboratory.intrinsic+json": {
              "type": "string"
            }
          },
          "metadata": {},
          "execution_count": 30
        }
      ]
    },
    {
      "cell_type": "code",
      "source": [
        "'''\n",
        "151. Reverse Words in a String\n",
        "\n",
        "Example 1:\n",
        "\n",
        "Input: s = \"the sky is blue\"\n",
        "Output: \"blue is sky the\"\n",
        "Example 2:\n",
        "\n",
        "Input: s = \"  hello world  \"\n",
        "Output: \"world hello\"\n",
        "Explanation: Your reversed string should not contain leading or trailing spaces.\n",
        "\n",
        "Example 3:\n",
        "\n",
        "Input: s = \"a good   example\"\n",
        "Output: \"example good a\"\n",
        "Explanation: You need to reduce multiple spaces between two words to a single space in the reversed string.\n",
        "\n",
        "'''\n",
        "\n",
        "def reverseWords(s:str)-> str:\n",
        "  s=s.strip().split(\" \")\n",
        "  s = [i for i in s if i]\n",
        "  s.reverse()\n",
        "  print(s)\n",
        "  result=[]\n",
        "  for c in s:\n",
        "    if c!=\"\":\n",
        "      result.append(c)\n",
        "  return \" \".join(str(x) for x in result)\n",
        "\n",
        "reverseWords(\"a good   example\")"
      ],
      "metadata": {
        "colab": {
          "base_uri": "https://localhost:8080/",
          "height": 53
        },
        "id": "aR1BakTfMKyh",
        "outputId": "3fb47beb-8549-455d-84e1-b1953816f07b"
      },
      "execution_count": null,
      "outputs": [
        {
          "output_type": "stream",
          "name": "stdout",
          "text": [
            "['example', 'good', 'a']\n"
          ]
        },
        {
          "output_type": "execute_result",
          "data": {
            "text/plain": [
              "'example good a'"
            ],
            "application/vnd.google.colaboratory.intrinsic+json": {
              "type": "string"
            }
          },
          "metadata": {},
          "execution_count": 45
        }
      ]
    },
    {
      "cell_type": "code",
      "source": [
        "'''\n",
        "Zigzag conversion\n",
        "\n",
        "Input: s = \"PAYPALISHIRING\", numRows = 3\n",
        "Output: \"PAHNAPLSIIGYIR\"\n",
        "\n",
        "Input: s = \"PAYPALISHIRING\", numRows = 4\n",
        "Output: \"PINALSIGYAHRPI\"\n",
        "\n",
        "Input: s = \"A\", numRows = 1\n",
        "Output: \"A\"\n",
        "\n",
        "\n",
        "'''\n",
        "\n",
        "def convert(s:str,numRows:int)->str:\n",
        "      if numRows ==1:\n",
        "        return s\n",
        "      result = [\"\"]*numRows\n",
        "      idx =0\n",
        "      going_up=True\n",
        "      for i in range(len(s)):\n",
        "          result[idx]+=s[i]\n",
        "          if idx == numRows-1:\n",
        "              going_up=False\n",
        "          elif idx == 0:\n",
        "              going_up = True\n",
        "          if going_up:\n",
        "              idx+=1\n",
        "          else:\n",
        "              idx-=1\n",
        "      return \"\".join(result)\n",
        "convert(\"ABC\",2)"
      ],
      "metadata": {
        "colab": {
          "base_uri": "https://localhost:8080/",
          "height": 105
        },
        "id": "EXc_J8O_TNe2",
        "outputId": "272555ff-49a0-47fa-8311-c2a330aaff9b"
      },
      "execution_count": null,
      "outputs": [
        {
          "output_type": "stream",
          "name": "stdout",
          "text": [
            "['', '']\n",
            "0\n",
            "1\n",
            "0\n"
          ]
        },
        {
          "output_type": "execute_result",
          "data": {
            "text/plain": [
              "'ACB'"
            ],
            "application/vnd.google.colaboratory.intrinsic+json": {
              "type": "string"
            }
          },
          "metadata": {},
          "execution_count": 67
        }
      ]
    },
    {
      "cell_type": "code",
      "source": [
        "'''\n",
        "68. Text Justification\n",
        "\n",
        "Example 1:\n",
        "\n",
        "Input: words = [\"This\", \"is\", \"an\", \"example\", \"of\", \"text\", \"justification.\"], maxWidth = 16\n",
        "Output:\n",
        "[\n",
        "   \"This    is    an\",\n",
        "   \"example  of text\",\n",
        "   \"justification.  \"\n",
        "]\n",
        "\n",
        "Example 2:\n",
        "\n",
        "Input: words = [\"What\",\"must\",\"be\",\"acknowledgment\",\"shall\",\"be\"], maxWidth = 16\n",
        "Output:\n",
        "[\n",
        "  \"What   must   be\",\n",
        "  \"acknowledgment  \",\n",
        "  \"shall be        \"\n",
        "]\n",
        "Explanation: Note that the last line is \"shall be    \" instead of \"shall     be\", because the last line must be left-justified instead of fully-justified.\n",
        "Note that the second line is also left-justified because it contains only one word.\n",
        "\n",
        "Example 3:\n",
        "\n",
        "Input: words = [\"Science\",\"is\",\"what\",\"we\",\"understand\",\"well\",\"enough\",\"to\",\"explain\",\"to\",\"a\",\"computer.\",\"Art\",\"is\",\"everything\",\"else\",\"we\",\"do\"], maxWidth = 20\n",
        "Output:\n",
        "[\n",
        "  \"Science  is  what we\",\n",
        "  \"understand      well\",\n",
        "  \"enough to explain to\",\n",
        "  \"a  computer.  Art is\",\n",
        "  \"everything  else  we\",\n",
        "  \"do                  \"\n",
        "]\n",
        "\n",
        "\n",
        "first though two pointer to slove the issue\n",
        "\n",
        "'''\n",
        "\n",
        "def fullJustify(words,maxWidth:int):\n",
        "  res,line,width =[],[],0\n",
        "  for w in words:\n",
        "    if width +len(w)+len(line) > maxWidth:\n",
        "      print(line)\n",
        "      print(\"this is len(line) - 1 or 1:   \"+str(len(line) - 1 or 1))\n",
        "      print(\"this is width:   \"+str(width))\n",
        "      for i in range(maxWidth - width): line[i % (len(line) - 1 or 1)] += ' '\n",
        "      print(\"this is inside for loop\")\n",
        "      print(line)\n",
        "      res,line,width = res+[''.join(line)],[],0\n",
        "    line +=[w]\n",
        "    width+=len(w)\n",
        "  print(res)\n",
        "  return res+[' '.join(line).ljust(maxWidth)]\n",
        "\n",
        "  \"\"\"\n",
        "  idx = 0\n",
        "  currentWidth = maxWidth\n",
        "  count=[len(word)+1 for word in words]\n",
        "  print(count)\n",
        "  temp = []\n",
        "  result=[]\n",
        "  for i in range(len(count)):\n",
        "    if currentWidth-1-count[i] >=0:\n",
        "      temp.append(words[i])\n",
        "      currentWidth-=count[i]\n",
        "    else:\n",
        "      (currentWidth+1)//len(temp)\n",
        "      (currentWidth+1)%len(temp)\n",
        "      for i in temp\n",
        "  #for word in words:\n",
        "  #  if len(word)+2 <= currentWidth:\n",
        "     \"\"\"\n",
        "\n",
        "fullJustify([\"What\",\"must\",\"be\",\"acknowledgment\",\"shall\",\"be\"],16)\n"
      ],
      "metadata": {
        "colab": {
          "base_uri": "https://localhost:8080/"
        },
        "id": "Xoj01CjHznx3",
        "outputId": "fb2c0c46-ddbd-481a-dd24-add649a32331"
      },
      "execution_count": null,
      "outputs": [
        {
          "output_type": "stream",
          "name": "stdout",
          "text": [
            "['What', 'must', 'be']\n",
            "this is len(line) - 1 or 1:   2\n",
            "this is width:   10\n",
            "this is inside for loop\n",
            "['What   ', 'must   ', 'be']\n",
            "['acknowledgment']\n",
            "this is len(line) - 1 or 1:   1\n",
            "this is width:   14\n",
            "this is inside for loop\n",
            "['acknowledgment  ']\n",
            "['What   must   be', 'acknowledgment  ']\n"
          ]
        },
        {
          "output_type": "execute_result",
          "data": {
            "text/plain": [
              "['What   must   be', 'acknowledgment  ', 'shall be        ']"
            ]
          },
          "metadata": {},
          "execution_count": 5
        }
      ]
    },
    {
      "cell_type": "code",
      "source": [
        "\"\"\"\n",
        "167. Two Sum II - Input Array Is Sorted\n",
        "\n",
        "Example 1:\n",
        "\n",
        "Input: numbers = [2,7,11,15], target = 9\n",
        "Output: [1,2]\n",
        "Explanation: The sum of 2 and 7 is 9. Therefore, index1 = 1, index2 = 2. We return [1, 2].\n",
        "Example 2:\n",
        "\n",
        "Input: numbers = [2,3,4], target = 6\n",
        "Output: [1,3]\n",
        "Explanation: The sum of 2 and 4 is 6. Therefore index1 = 1, index2 = 3. We return [1, 3].\n",
        "Example 3:\n",
        "\n",
        "Input: numbers = [-1,0], target = -1\n",
        "Output: [1,2]\n",
        "Explanation: The sum of -1 and 0 is -1. Therefore index1 = 1, index2 = 2. We return [1, 2].\n",
        "\n",
        "\n",
        "we can use two pointer to deal with it\n",
        "\n",
        "solution:\n",
        "1. dictionary\n",
        "2.binary search\n",
        "\n",
        "\"\"\"\n",
        "\n",
        "def twoSum(numbers,target):\n",
        "  right = len(numbers)-1\n",
        "  left =0\n",
        "  while left <right:\n",
        "    if numbers[left]+numbers[right] >target:\n",
        "       right-=1\n",
        "    elif numbers[left]+numbers[right]<target:\n",
        "       left+=1\n",
        "    else:\n",
        "      return[left+1,right+1]\n",
        "\n",
        "twoSum([2,7,11,15],9)"
      ],
      "metadata": {
        "colab": {
          "base_uri": "https://localhost:8080/"
        },
        "id": "pKaCHCjR9mMv",
        "outputId": "ed08af2c-6886-47c7-f4d5-63b3c1f9e813"
      },
      "execution_count": null,
      "outputs": [
        {
          "output_type": "execute_result",
          "data": {
            "text/plain": [
              "[1, 2]"
            ]
          },
          "metadata": {},
          "execution_count": 7
        }
      ]
    },
    {
      "cell_type": "code",
      "source": [
        "\"\"\"\n",
        "11. Container With Most Water\n",
        "\n",
        "Input: height = [1,8,6,2,5,4,8,3,7]\n",
        "Output: 49\n",
        "Explanation: The above vertical lines are represented by array [1,8,6,2,5,4,8,3,7]. In this case, the max area of water (blue section) the container can contain is 49.\n",
        "Example 2:\n",
        "\n",
        "Input: height = [1,1]\n",
        "Output: 1\n",
        "\n",
        "two pointer\n",
        "\"\"\"\n",
        "\n",
        "def maxArea(height) -> int:\n",
        "  water = 0\n",
        "  left ,right = 0,len(height)-1\n",
        "  if len(height)<=1:\n",
        "      return 0\n",
        "  elif len(height) ==2:\n",
        "      return min(height[0],height[1])\n",
        "\n",
        "  while left < right:\n",
        "      water=max(min(height[left],height[right])*(right-left),water)\n",
        "      if height[left] >height[right]:\n",
        "          right -=1\n",
        "      else:\n",
        "          left +=1\n",
        "  return water\n",
        "\n",
        "maxArea([1,2,4,3])\n"
      ],
      "metadata": {
        "colab": {
          "base_uri": "https://localhost:8080/"
        },
        "id": "mPQUWAPSA-Ya",
        "outputId": "3e82e819-15d4-41a3-861d-4cb9ead72d18"
      },
      "execution_count": null,
      "outputs": [
        {
          "output_type": "execute_result",
          "data": {
            "text/plain": [
              "4"
            ]
          },
          "metadata": {},
          "execution_count": 11
        }
      ]
    },
    {
      "cell_type": "code",
      "source": [
        "\"\"\"\n",
        "15. 3Sum\n",
        "\n",
        "Example 1:\n",
        "\n",
        "Input: nums = [-1,0,1,2,-1,-4]\n",
        "Output: [[-1,-1,2],[-1,0,1]]\n",
        "Explanation:\n",
        "nums[0] + nums[1] + nums[2] = (-1) + 0 + 1 = 0.\n",
        "nums[1] + nums[2] + nums[4] = 0 + 1 + (-1) = 0.\n",
        "nums[0] + nums[3] + nums[4] = (-1) + 2 + (-1) = 0.\n",
        "The distinct triplets are [-1,0,1] and [-1,-1,2].\n",
        "Notice that the order of the output and the order of the triplets does not matter.\n",
        "Example 2:\n",
        "\n",
        "Input: nums = [0,1,1]\n",
        "Output: []\n",
        "Explanation: The only possible triplet does not sum up to 0.\n",
        "Example 3:\n",
        "\n",
        "Input: nums = [0,0,0]\n",
        "Output: [[0,0,0]]\n",
        "Explanation: The only possible triplet sums up to 0.\n",
        "\n",
        "\n",
        "solution for two pointer but time limit exceeded\n",
        "\n",
        "\n",
        "def threeSum(nums):\n",
        "  nums.sort()\n",
        "  left,right = 0,len(nums)-1\n",
        "  result = []\n",
        "  k=1\n",
        "  while left <right:\n",
        "    temp =nums[left]+nums[right]+nums[k]\n",
        "    if temp <0 and right-1 >k:\n",
        "      k+=1\n",
        "    elif temp <0 and right-1==k:\n",
        "      left +=1\n",
        "      k=left+1\n",
        "    elif temp >0:\n",
        "      right-=1\n",
        "      k=left+1\n",
        "    elif temp == 0 and k != left and left != right and k != right:\n",
        "      result.append([nums[left],nums[k],nums[right]])\n",
        "      if k+1 != right:\n",
        "        k+=1\n",
        "      else:\n",
        "        left+=1\n",
        "  return result\n",
        "  #return [list(t) for t in set(tuple(element) for element in result)]\n",
        "\n",
        "\n",
        "\"\"\"\n",
        "def threeSum(nums):\n",
        "        nums.sort()\n",
        "        l=[]\n",
        "        for left in range(len(nums)):\n",
        "            if left>0 and nums[left-1] == nums[left]: # skipping if we found the duplicate of i\n",
        "                continue\n",
        "            k = left+1 #taking k pointer larger than i\n",
        "            right = len(nums)-1 #taking right pointer from last\n",
        "            while k<right:\n",
        "                s = nums[left]+nums[k]+nums[right]\n",
        "                if s>0:\n",
        "                    right-=1 # so take value less than previous\n",
        "                elif s<0:\n",
        "                    k+=1\n",
        "                else:\n",
        "                    l.append([nums[left],nums[k],nums[right]])\n",
        "                    k+=1\n",
        "                    while nums[k-1] == nums[k] and k<right:\n",
        "                        k+=1\n",
        "        return l\n",
        "\n",
        "threeSum([-1,0,1,2,-1,-4])"
      ],
      "metadata": {
        "colab": {
          "base_uri": "https://localhost:8080/"
        },
        "id": "9xYXPy2ae4oi",
        "outputId": "a8c5b345-33db-4144-83aa-5e3e1f96544a"
      },
      "execution_count": null,
      "outputs": [
        {
          "output_type": "execute_result",
          "data": {
            "text/plain": [
              "[[-1, -1, 2], [-1, 0, 1]]"
            ]
          },
          "metadata": {},
          "execution_count": 29
        }
      ]
    },
    {
      "cell_type": "markdown",
      "source": [],
      "metadata": {
        "id": "wCXGwfln9mA7"
      }
    },
    {
      "cell_type": "code",
      "source": [
        "\"\"\"\n",
        "\n",
        "209. Minimum Size Subarray Sum\n",
        "Example 1:\n",
        "\n",
        "Input: target = 7, nums = [2,3,1,2,4,3]\n",
        "Output: 2\n",
        "Explanation: The subarray [4,3] has the minimal length under the problem constraint.\n",
        "Example 2:\n",
        "\n",
        "Input: target = 4, nums = [1,4,4]\n",
        "Output: 1\n",
        "Example 3:\n",
        "\n",
        "Input: target = 11, nums = [1,1,1,1,1,1,1,1]\n",
        "Output: 0\n",
        "\n",
        "\n",
        "\n",
        "\"\"\"\n",
        "\n",
        "def minSubArrayLen(target,nums) ->int:\n",
        "  i,total = 0,0\n",
        "  min_length = float('inf')\n",
        "  for j in range(len(nums)):\n",
        "    print(\"left: \"+str(i))\n",
        "    print(\"right: \"+str(j))\n",
        "    total += nums[j]\n",
        "    while total >= target:\n",
        "      min_length =min(min_length,j-i+1)\n",
        "      total -=nums[i]\n",
        "      i+=1\n",
        "  if min_length == float('inf'):\n",
        "    return 0\n",
        "  return min_length\n",
        "\n",
        "minSubArrayLen(7,[2,3,1,2,4,3])\n"
      ],
      "metadata": {
        "colab": {
          "base_uri": "https://localhost:8080/"
        },
        "id": "NBm6qseNvL_5",
        "outputId": "78fba773-bea7-42e4-e34d-cce5122a09e2"
      },
      "execution_count": null,
      "outputs": [
        {
          "output_type": "stream",
          "name": "stdout",
          "text": [
            "left: 0\n",
            "right: 0\n",
            "left: 0\n",
            "right: 1\n",
            "left: 0\n",
            "right: 2\n",
            "left: 0\n",
            "right: 3\n",
            "left: 1\n",
            "right: 4\n",
            "left: 3\n",
            "right: 5\n"
          ]
        },
        {
          "output_type": "execute_result",
          "data": {
            "text/plain": [
              "2"
            ]
          },
          "metadata": {},
          "execution_count": 32
        }
      ]
    },
    {
      "cell_type": "code",
      "source": [
        "\"\"\"\n",
        "3. Longest Substring Without Repeating Characters\n",
        "\n",
        "Example 1:\n",
        "\n",
        "Input: s = \"abcabcbb\"\n",
        "Output: 3\n",
        "Explanation: The answer is \"abc\", with the length of 3.\n",
        "Example 2:\n",
        "\n",
        "Input: s = \"bbbbb\"\n",
        "Output: 1\n",
        "Explanation: The answer is \"b\", with the length of 1.\n",
        "Example 3:\n",
        "\n",
        "Input: s = \"pwwkew\"\n",
        "Output: 3\n",
        "Explanation: The answer is \"wke\", with the length of 3.\n",
        "Notice that the answer must be a substring, \"pwke\" is a subsequence and not a substring.\n",
        "\n",
        "\n",
        "\"\"\"\n",
        "def lengthOfLongestSubstring(s: str) -> int:\n",
        "  current =\"\"\n",
        "  result=[]\n",
        "  for right in range(len(s)):\n",
        "    if s[right] not in current:\n",
        "      current+=s[right]\n",
        "      if right == len(s)-1:\n",
        "        result.append(current)\n",
        "    else:\n",
        "      result.append(current)\n",
        "      current=\"\"\n",
        "      current +=s[right]\n",
        "  print(result)\n",
        "  return len(max(result,key=len))\n",
        "\n",
        "lengthOfLongestSubstring(\"dvdf\")\n"
      ],
      "metadata": {
        "id": "hNOe1Nho1A-W",
        "colab": {
          "base_uri": "https://localhost:8080/"
        },
        "outputId": "ccd0ff01-347a-44b0-b542-7032506d76af"
      },
      "execution_count": null,
      "outputs": [
        {
          "output_type": "stream",
          "name": "stdout",
          "text": [
            "['dv', 'df']\n"
          ]
        },
        {
          "output_type": "execute_result",
          "data": {
            "text/plain": [
              "2"
            ]
          },
          "metadata": {},
          "execution_count": 32
        }
      ]
    },
    {
      "cell_type": "code",
      "source": [
        "'''\n",
        "\n",
        "36. Valid Sudoku\n",
        "\n",
        "Input: board =\n",
        "[[\"5\",\"3\",\".\",\".\",\"7\",\".\",\".\",\".\",\".\"]\n",
        ",[\"6\",\".\",\".\",\"1\",\"9\",\"5\",\".\",\".\",\".\"]\n",
        ",[\".\",\"9\",\"8\",\".\",\".\",\".\",\".\",\"6\",\".\"]\n",
        ",[\"8\",\".\",\".\",\".\",\"6\",\".\",\".\",\".\",\"3\"]\n",
        ",[\"4\",\".\",\".\",\"8\",\".\",\"3\",\".\",\".\",\"1\"]\n",
        ",[\"7\",\".\",\".\",\".\",\"2\",\".\",\".\",\".\",\"6\"]\n",
        ",[\".\",\"6\",\".\",\".\",\".\",\".\",\"2\",\"8\",\".\"]\n",
        ",[\".\",\".\",\".\",\"4\",\"1\",\"9\",\".\",\".\",\"5\"]\n",
        ",[\".\",\".\",\".\",\".\",\"8\",\".\",\".\",\"7\",\"9\"]]\n",
        "Output: true\n",
        "Example 2:\n",
        "\n",
        "Input: board =\n",
        "[[\"8\",\"3\",\".\",\".\",\"7\",\".\",\".\",\".\",\".\"]\n",
        ",[\"6\",\".\",\".\",\"1\",\"9\",\"5\",\".\",\".\",\".\"]\n",
        ",[\".\",\"9\",\"8\",\".\",\".\",\".\",\".\",\"6\",\".\"]\n",
        ",[\"8\",\".\",\".\",\".\",\"6\",\".\",\".\",\".\",\"3\"]\n",
        ",[\"4\",\".\",\".\",\"8\",\".\",\"3\",\".\",\".\",\"1\"]\n",
        ",[\"7\",\".\",\".\",\".\",\"2\",\".\",\".\",\".\",\"6\"]\n",
        ",[\".\",\"6\",\".\",\".\",\".\",\".\",\"2\",\"8\",\".\"]\n",
        ",[\".\",\".\",\".\",\"4\",\"1\",\"9\",\".\",\".\",\"5\"]\n",
        ",[\".\",\".\",\".\",\".\",\"8\",\".\",\".\",\"7\",\"9\"]]\n",
        "Output: false\n",
        "Explanation: Same as Example 1, except with the 5 in the top left corner being modified to 8. Since there are two 8's in the top left 3x3 sub-box, it is invalid.\n",
        "\n",
        "\n",
        "1. Each row must contain the digits 1-9 without repetition.\n",
        "2. Each column must contain the digits 1-9 without repetition.\n",
        "3. Each of the nine 3 x 3 sub-boxes of the grid must contain the digits 1-9 without repetition.\n",
        "\n",
        "\n",
        "Constraints:\n",
        "\n",
        "board.length == 9\n",
        "board[i].length == 9\n",
        "board[i][j] is a digit 1-9 or '.'.\n",
        "\n",
        "\n",
        "'''\n",
        "\n",
        "def isValidSudoku(board) -> bool:\n",
        "  res=[]\n",
        "  for i in range(9):\n",
        "    for j in range(9):\n",
        "      element=board[i][j]\n",
        "      if  element!= \".\":\n",
        "        res+=[(i,element),(element,j),(i//3,j//3)]\n",
        "  return len(res) == len(set(res))\n",
        "\n",
        "\n",
        "\n",
        "isValidSudoku([[\"8\",\"3\",\".\",\".\",\"7\",\".\",\".\",\".\",\".\"]\n",
        ",[\"6\",\".\",\".\",\"1\",\"9\",\"5\",\".\",\".\",\".\"]\n",
        ",[\".\",\"9\",\"8\",\".\",\".\",\".\",\".\",\"6\",\".\"]\n",
        ",[\"8\",\".\",\".\",\".\",\"6\",\".\",\".\",\".\",\"3\"]\n",
        ",[\"4\",\".\",\".\",\"8\",\".\",\"3\",\".\",\".\",\"1\"]\n",
        ",[\"7\",\".\",\".\",\".\",\"2\",\".\",\".\",\".\",\"6\"]\n",
        ",[\".\",\"6\",\".\",\".\",\".\",\".\",\"2\",\"8\",\".\"]\n",
        ",[\".\",\".\",\".\",\"4\",\"1\",\"9\",\".\",\".\",\"5\"]\n",
        ",[\".\",\".\",\".\",\".\",\"8\",\".\",\".\",\"7\",\"9\"]])\n"
      ],
      "metadata": {
        "colab": {
          "base_uri": "https://localhost:8080/"
        },
        "id": "LeR2-kkRW5WJ",
        "outputId": "d69cff0c-661c-4e50-d405-90cb21a1456c"
      },
      "execution_count": null,
      "outputs": [
        {
          "output_type": "stream",
          "name": "stdout",
          "text": [
            "[(0, '8'), ('8', 0), (0, 0), (0, '3'), ('3', 1), (0, 0), (0, '7'), ('7', 4), (0, 1), (1, '6'), ('6', 0), (0, 0), (1, '1'), ('1', 3), (0, 1), (1, '9'), ('9', 4), (0, 1), (1, '5'), ('5', 5), (0, 1), (2, '9'), ('9', 1), (0, 0), (2, '8'), ('8', 2), (0, 0), (2, '6'), ('6', 7), (0, 2), (3, '8'), ('8', 0), (1, 0), (3, '6'), ('6', 4), (1, 1), (3, '3'), ('3', 8), (1, 2), (4, '4'), ('4', 0), (1, 0), (4, '8'), ('8', 3), (1, 1), (4, '3'), ('3', 5), (1, 1), (4, '1'), ('1', 8), (1, 2), (5, '7'), ('7', 0), (1, 0), (5, '2'), ('2', 4), (1, 1), (5, '6'), ('6', 8), (1, 2), (6, '6'), ('6', 1), (2, 0), (6, '2'), ('2', 6), (2, 2), (6, '8'), ('8', 7), (2, 2), (7, '4'), ('4', 3), (2, 1), (7, '1'), ('1', 4), (2, 1), (7, '9'), ('9', 5), (2, 1), (7, '5'), ('5', 8), (2, 2), (8, '8'), ('8', 4), (2, 1), (8, '7'), ('7', 7), (2, 2), (8, '9'), ('9', 8), (2, 2)]\n"
          ]
        },
        {
          "output_type": "execute_result",
          "data": {
            "text/plain": [
              "False"
            ]
          },
          "metadata": {},
          "execution_count": 6
        }
      ]
    },
    {
      "cell_type": "code",
      "source": [
        "'''\n",
        "54. Spiral Matrix\n",
        "\n",
        "Input: matrix = [[1,2,3],[4,5,6],[7,8,9]]\n",
        "Output: [1,2,3,6,9,8,7,4,5]\n",
        "Example 2:\n",
        "\n",
        "\n",
        "Input: matrix = [[1,2,3,4],[5,6,7,8],[9,10,11,12]]\n",
        "Output: [1,2,3,4,8,12,11,10,9,5,6,7]\n",
        "\n",
        "\n",
        "Constraints:\n",
        "\n",
        "m == matrix.length\n",
        "n == matrix[i].length\n",
        "1 <= m, n <= 10\n",
        "-100 <= matrix[i][j] <= 100\n",
        "\n",
        "pointer to pick up the value from input list to result\n",
        "\n",
        "        if not matrix:\n",
        "            return []\n",
        "\n",
        "        rows, cols = len(matrix), len(matrix[0])\n",
        "        top, bottom, left, right = 0, rows-1, 0, cols-1\n",
        "        result = []\n",
        "\n",
        "        while len(result) < rows * cols:\n",
        "            for i in range(left, right+1):\n",
        "                result.append(matrix[top][i])\n",
        "            top += 1\n",
        "\n",
        "            for i in range(top, bottom+1):\n",
        "                result.append(matrix[i][right])\n",
        "            right -= 1\n",
        "\n",
        "            if top <= bottom:\n",
        "                for i in range(right, left-1, -1):\n",
        "                    result.append(matrix[bottom][i])\n",
        "                bottom -= 1\n",
        "\n",
        "            if left <= right:\n",
        "                for i in range(bottom, top-1, -1):\n",
        "                    result.append(matrix[i][left])\n",
        "                left += 1\n",
        "\n",
        "        return result\n",
        "\n",
        "'''\n",
        "\n",
        "def spiralOrder(matrix):\n",
        "      if not matrix:\n",
        "        return []\n",
        "      rows, cols = len(matrix),len(matrix[0])\n",
        "      top,bottom,left,right = 0,rows-1,0,cols-1\n",
        "      result = []\n",
        "      while len(result) < rows*cols:\n",
        "        for i in range(left,right+1):\n",
        "          result.append(matrix[top][i])\n",
        "        top +=1\n",
        "        for i in range(top,bottom+1):\n",
        "          result.append(matrix[i][right])\n",
        "        right -=1\n",
        "        if top <= bottom:\n",
        "          for i in range(right,left-1,-1):\n",
        "            result.append(matrix[bottom][i])\n",
        "          bottom -=1\n",
        "        if left <= right:\n",
        "          for i in range(bottom,top-1,-1):\n",
        "            result.append(matrix[i][left])\n",
        "          left +=1\n",
        "      return result\n",
        "\n",
        "spiralOrder([[1,2,3,4],[5,6,7,8],[9,10,11,12]])"
      ],
      "metadata": {
        "colab": {
          "base_uri": "https://localhost:8080/"
        },
        "id": "2glfN1H17ER5",
        "outputId": "264d0292-f4f0-49a9-88b1-d546e5b02d20"
      },
      "execution_count": null,
      "outputs": [
        {
          "output_type": "execute_result",
          "data": {
            "text/plain": [
              "[1, 2, 3, 4, 8, 12, 11, 10, 9, 5, 6, 7]"
            ]
          },
          "metadata": {},
          "execution_count": 9
        }
      ]
    },
    {
      "cell_type": "code",
      "source": [
        "'''\n",
        "48. Rotate Image\n",
        "\n",
        "You are given an n x n 2D matrix representing an image, rotate the image by 90 degrees (clockwise).\n",
        "\n",
        "You have to rotate the image in-place, which means you have to modify the input 2D matrix directly. DO NOT allocate another 2D matrix and do the rotation.\n",
        "\n",
        "\n",
        "Input: matrix = [[1,2,3],[4,5,6],[7,8,9]]\n",
        "Output: [[7,4,1],[8,5,2],[9,6,3]]\n",
        "\n",
        "Input: matrix = [[5,1,9,11],[2,4,8,10],[13,3,6,7],[15,14,12,16]]\n",
        "Output: [[15,13,2,5],[14,3,4,1],[12,6,8,9],[16,7,10,11]]\n",
        "\n",
        "\n",
        "transpose then reverse\n",
        "\n",
        "'''\n",
        "\n",
        "def rotate(matrix)-> None:\n",
        "  left =0\n",
        "  right = len(matrix) -1\n",
        "  # reverse\n",
        "  while left < right :\n",
        "    matrix[left],matrix[right] = matrix[right],matrix[left]\n",
        "    left+=1\n",
        "    right -=1\n",
        "  print(matrix)\n",
        "  # transpose\n",
        "  for i in range(len(matrix)):\n",
        "    for j in range(i):\n",
        "      matrix[i][j], matrix[j][i] = matrix[j][i],matrix[i][j]\n",
        "\n",
        "  return matrix\n",
        "\n",
        "\n",
        "rotate([[1,2,3],[4,5,6],[7,8,9]])"
      ],
      "metadata": {
        "colab": {
          "base_uri": "https://localhost:8080/"
        },
        "id": "lo8CXSTR2Lay",
        "outputId": "e48fe11e-3b42-48ca-c17d-554e16162280"
      },
      "execution_count": null,
      "outputs": [
        {
          "output_type": "stream",
          "name": "stdout",
          "text": [
            "[[7, 8, 9], [4, 5, 6], [1, 2, 3]]\n"
          ]
        },
        {
          "output_type": "execute_result",
          "data": {
            "text/plain": [
              "[[7, 4, 1], [8, 5, 2], [9, 6, 3]]"
            ]
          },
          "metadata": {},
          "execution_count": 11
        }
      ]
    },
    {
      "cell_type": "code",
      "source": [
        "'''\n",
        "73. Set Matrix Zeroes\n",
        "\n",
        "Given an m x n integer matrix matrix, if an element is 0, set its entire row and column to 0's.\n",
        "\n",
        "You must do it in place.\n",
        "\n",
        "\n",
        "\n",
        "Input: matrix = [[1,1,1],[1,0,1],[1,1,1]]\n",
        "Output: [[1,0,1],[0,0,0],[1,0,1]]\n",
        "\n",
        "Input: matrix = [[0,1,2,0],[3,4,5,2],[1,3,1,5]]\n",
        "Output: [[0,0,0,0],[0,4,5,0],[0,3,1,0]]\n",
        "\n",
        "\n",
        "'''\n",
        "def setZeroes(matrix):\n",
        "  zero =[]\n",
        "  rows,cols= len(matrix),len(matrix[0])\n",
        "  zeroRows=[False]*rows\n",
        "  zeroCols=[False] *cols\n",
        "  for i in range(rows):\n",
        "    for j in range(cols):\n",
        "      if matrix[i][j] == 0:\n",
        "        zeroRows[i]=True\n",
        "        zeroCols[j]=True\n",
        "\n",
        "  for i in range(rows):\n",
        "    for j in range(cols):\n",
        "      if zeroRows[i] or zeroCols[j]:\n",
        "        matrix[i][j]=0\n",
        "\n",
        "setZeroes([[0,1,2,0],[3,4,5,2],[1,3,1,5]])"
      ],
      "metadata": {
        "id": "OuQcXiU1FqqR"
      },
      "execution_count": null,
      "outputs": []
    },
    {
      "cell_type": "code",
      "source": [
        "'''\n",
        "289. Game of Life\n",
        "\n",
        "1. Any live cell with fewer than two live neighbors dies as if caused by under-population.\n",
        "\n",
        "2. Any live cell with two or three live neighbors lives on to the next generation.\n",
        "\n",
        "\n",
        "3. Any live cell with more than three live neighbors dies, as if by over-population.\n",
        "\n",
        "4. Any dead cell with exactly three live neighbors becomes a live cell, as if by reproduction.\n",
        "\n",
        "        ##   previous value state change  current state   current value\n",
        "        ##   0              no change     dead            0\n",
        "        ##   1              no change     live            1\n",
        "        ##   0              changed (+2)  live            2\n",
        "        ##   1              changed (-2)  dead            -1\n",
        "\n",
        "Input: board = [[0,1,0],[0,0,1],[1,1,1],[0,0,0]]\n",
        "Output: [[0,0,0],[1,0,1],[0,1,1],[0,1,0]]\n",
        "\n",
        "Input: board = [[1,1],[1,0]]\n",
        "Output: [[1,1],[1,1]]\n",
        "\n",
        "Constraints:\n",
        "\n",
        "m == board.length\n",
        "n == board[i].length\n",
        "1 <= m, n <= 25\n",
        "board[i][j] is 0 or 1.\n",
        "\n",
        "'''\n",
        "def gameOfLife(board):\n",
        "  def isValidNeighbor(x, y):\n",
        "    return x < len(board) and x >= 0 and y < len(board[0]) and y >= 0\n",
        "\n",
        "  # all directions of neights\n",
        "  ways_x = [0, 0, 1, 1, 1, -1, -1, -1]\n",
        "  ways_y = [1, -1, 1, -1, 0, 0, 1, -1]\n",
        "\n",
        "  for row in range(len(board)):\n",
        "      for col in range(len(board[0])):\n",
        "\n",
        "          # Loop to count all live neighbors\n",
        "          count_live_neighbors = 0\n",
        "          for i in range(8):\n",
        "              curr_x, curr_y = row + ways_x[i], col + ways_y[i]\n",
        "              if isValidNeighbor(curr_x, curr_y) and abs(board[curr_x][curr_y]) == 1:\n",
        "                  count_live_neighbors+=1\n",
        "\n",
        "          # Rules 1 and 3: -1 indicates a cell that was live but now is dead.\n",
        "          if board[row][col] == 1 and (count_live_neighbors < 2 or count_live_neighbors > 3):\n",
        "              board[row][col] = -1\n",
        "\n",
        "          # Rule 4: 2 indicates a cell that was dead but now is live.\n",
        "          if board[row][col] == 0 and count_live_neighbors == 3:\n",
        "              board[row][col] = 2\n",
        "\n",
        "  # Get the final board\n",
        "  for row in range(len(board)):\n",
        "      for col in range(len(board[0])):\n",
        "          if board[row][col] >= 1:\n",
        "              board[row][col] = 1\n",
        "          else:\n",
        "              board[row][col] = 0\n",
        "  return board\n",
        "\n",
        "gameOfLife([[0,1,0],[0,0,1],[1,1,1],[0,0,0]])"
      ],
      "metadata": {
        "colab": {
          "base_uri": "https://localhost:8080/"
        },
        "id": "gFGzcqivZ6Sf",
        "outputId": "8f79fd83-261b-426c-eac0-bd3f85b1fd53"
      },
      "execution_count": null,
      "outputs": [
        {
          "output_type": "execute_result",
          "data": {
            "text/plain": [
              "[[0, 0, 0], [1, 0, 1], [0, 1, 1], [0, 1, 0]]"
            ]
          },
          "metadata": {},
          "execution_count": 6
        }
      ]
    },
    {
      "cell_type": "code",
      "source": [
        "'''\n",
        "49. Group Anagrams\n",
        "\n",
        "Example 1:\n",
        "\n",
        "Input: strs = [\"eat\",\"tea\",\"tan\",\"ate\",\"nat\",\"bat\"]\n",
        "Output: [[\"bat\"],[\"nat\",\"tan\"],[\"ate\",\"eat\",\"tea\"]]\n",
        "Example 2:\n",
        "\n",
        "Input: strs = [\"\"]\n",
        "Output: [[\"\"]]\n",
        "Example 3:\n",
        "\n",
        "Input: strs = [\"a\"]\n",
        "Output: [[\"a\"]]\n",
        "\n",
        "\n",
        "Constraints:\n",
        "\n",
        "1 <= strs.length <= 104\n",
        "0 <= strs[i].length <= 100\n",
        "strs[i] consists of lowercase English letters.\n",
        "\n",
        "'''\n",
        "def groupAnagrams(strs):\n",
        "  # strSet=[set(i) for i in strs]\n",
        "  # strSet={k:v for v,k in enumerate(strs)}\n",
        "  # print(strSet)\n",
        "  strs_object={}\n",
        "  for string in strs:\n",
        "    sorted_string = \"\".join(sorted(string))\n",
        "    if sorted_string not in strs_object:\n",
        "      strs_object[sorted_string]=[]\n",
        "    strs_object[sorted_string].append(string)\n",
        "  return strs_object\n",
        "  # for i in range(1,len(strs)):\n",
        "  #   if strSet[i] == strSet[j]:\n",
        "  #     sameSet.append(strs[i])\n",
        "\n",
        "groupAnagrams([\"eat\",\"tea\",\"tan\",\"ate\",\"nat\",\"bat\"])\n"
      ],
      "metadata": {
        "colab": {
          "base_uri": "https://localhost:8080/"
        },
        "id": "-u3Ms0G4enG5",
        "outputId": "162c9de3-2354-4cb0-daa2-98aee31c6e61"
      },
      "execution_count": 1,
      "outputs": [
        {
          "output_type": "execute_result",
          "data": {
            "text/plain": [
              "{'aet': ['eat', 'tea', 'ate'], 'ant': ['tan', 'nat'], 'abt': ['bat']}"
            ]
          },
          "metadata": {},
          "execution_count": 1
        }
      ]
    },
    {
      "cell_type": "code",
      "source": [
        "'''\n",
        "128. Longest Consecutive Sequence\n",
        "\n",
        "Given an unsorted array of integers nums, return the length of the longest consecutive elements sequence.\n",
        "\n",
        "You must write an algorithm that runs in O(n) time.\n",
        "\n",
        "\n",
        "\n",
        "Example 1:\n",
        "\n",
        "Input: nums = [100,4,200,1,3,2]\n",
        "Output: 4\n",
        "Explanation: The longest consecutive elements sequence is [1, 2, 3, 4]. Therefore its length is 4.\n",
        "Example 2:\n",
        "\n",
        "Input: nums = [0,3,7,2,5,8,4,6,0,1]\n",
        "Output: 9\n",
        "\n",
        "\n",
        "Constraints:\n",
        "\n",
        "0 <= nums.length <= 105\n",
        "-109 <= nums[i] <= 109\n",
        "\n",
        "inital think we can use convert list to dict to get consecutive elements\n",
        "\n",
        "'''\n",
        "def longestConsecutive(nums):\n",
        "  set_nums=set(nums)\n",
        "  sequence=set(nums)\n",
        "  longest_seq = 0\n",
        "\n",
        "  for num in set_nums:\n",
        "    if num-1 not in set_nums:\n",
        "      current_num = num\n",
        "      current_seq = 1\n",
        "      while current_num+1 in set_nums:\n",
        "        current_num += 1\n",
        "        current_seq += 1\n",
        "      longest_seq = max(longest_seq, current_seq)\n",
        "\n",
        "\n",
        "    # if (num+1) in sequence:\n",
        "    #   sequence.add(num)\n",
        "    # if (num-1) in sequence:\n",
        "    #   sequence.add(num)\n",
        "  return longest_seq\n",
        "\n",
        "longestConsecutive([9,1,4,7,3,-1,0,5,8,-1,6])\n"
      ],
      "metadata": {
        "colab": {
          "base_uri": "https://localhost:8080/"
        },
        "id": "6laA_ubYGl2i",
        "outputId": "1f635683-559f-48e8-f490-a5daa1d07113"
      },
      "execution_count": 22,
      "outputs": [
        {
          "output_type": "stream",
          "name": "stdout",
          "text": [
            "0\n",
            "{0, 1, 3, 4, 5, 6, 7, 8, 9, -1}\n",
            "1\n",
            "{0, 1, 3, 4, 5, 6, 7, 8, 9, -1}\n",
            "3\n",
            "{0, 1, 3, 4, 5, 6, 7, 8, 9, -1}\n",
            "4\n",
            "{0, 1, 3, 4, 5, 6, 7, 8, 9, -1}\n",
            "5\n",
            "{0, 1, 3, 4, 5, 6, 7, 8, 9, -1}\n",
            "6\n",
            "{0, 1, 3, 4, 5, 6, 7, 8, 9, -1}\n",
            "7\n",
            "{0, 1, 3, 4, 5, 6, 7, 8, 9, -1}\n",
            "8\n",
            "{0, 1, 3, 4, 5, 6, 7, 8, 9, -1}\n",
            "9\n",
            "{0, 1, 3, 4, 5, 6, 7, 8, 9, -1}\n",
            "-1\n",
            "{0, 1, 3, 4, 5, 6, 7, 8, 9, -1}\n"
          ]
        },
        {
          "output_type": "execute_result",
          "data": {
            "text/plain": [
              "7"
            ]
          },
          "metadata": {},
          "execution_count": 22
        }
      ]
    },
    {
      "cell_type": "code",
      "source": [
        "'''\n",
        "56. Merge Intervals\n",
        "\n",
        "Given an array of intervals where intervals[i] = [starti, endi], merge all overlapping intervals, and return an array of the non-overlapping intervals that cover all the intervals in the input.\n",
        "\n",
        "\n",
        "\n",
        "Example 1:\n",
        "\n",
        "Input: intervals = [[1,3],[2,6],[8,10],[15,18]]\n",
        "Output: [[1,6],[8,10],[15,18]]\n",
        "Explanation: Since intervals [1,3] and [2,6] overlap, merge them into [1,6].\n",
        "Example 2:\n",
        "\n",
        "Input: intervals = [[1,4],[4,5]]\n",
        "Output: [[1,5]]\n",
        "Explanation: Intervals [1,4] and [4,5] are considered overlapping.\n",
        "\n",
        "\n",
        "Constraints:\n",
        "\n",
        "1 <= intervals.length <= 104\n",
        "intervals[i].length == 2\n",
        "0 <= starti <= endi <= 104\n",
        "\n",
        "'''\n",
        "def merge(intervals):\n",
        "  intervals = sorted(intervals,key = lambda x:x[0])\n",
        "  res =[]\n",
        "  for interval in intervals:\n",
        "    if not res or res[-1][1] < interval[0]:\n",
        "      res.append(interval)\n",
        "    else:\n",
        "      res[-1][1] = max(res[-1][1],interval[1])\n",
        "\n",
        "  return res\n",
        "merge([[1,3],[2,6],[8,10],[15,18]])\n",
        "\n",
        "\n"
      ],
      "metadata": {
        "colab": {
          "base_uri": "https://localhost:8080/"
        },
        "id": "WboIv508anhU",
        "outputId": "23e5fe7c-286e-4b15-8d33-aaef25767207"
      },
      "execution_count": 34,
      "outputs": [
        {
          "output_type": "stream",
          "name": "stdout",
          "text": [
            "[1, 3]\n"
          ]
        },
        {
          "output_type": "execute_result",
          "data": {
            "text/plain": [
              "[[1, 6], [8, 10], [15, 18]]"
            ]
          },
          "metadata": {},
          "execution_count": 34
        }
      ]
    },
    {
      "cell_type": "code",
      "source": [
        "'''\n",
        "\n",
        "57. Insert Interval\n",
        "\n",
        "You are given an array of non-overlapping intervals intervals where intervals[i] = [starti, endi] represent the start and the end of the ith interval and intervals is sorted in ascending order by starti. You are also given an interval newInterval = [start, end] that represents the start and end of another interval.\n",
        "\n",
        "Insert newInterval into intervals such that intervals is still sorted in ascending order by starti and intervals still does not have any overlapping intervals (merge overlapping intervals if necessary).\n",
        "\n",
        "Return intervals after the insertion.\n",
        "\n",
        "\n",
        "\n",
        "Example 1:\n",
        "\n",
        "Input: intervals = [[1,3],[6,9]], newInterval = [2,5]\n",
        "Output: [[1,5],[6,9]]\n",
        "Example 2:\n",
        "\n",
        "Input: intervals = [[1,2],[3,5],[6,7],[8,10],[12,16]], newInterval = [4,8]\n",
        "Output: [[1,2],[3,10],[12,16]]\n",
        "Explanation: Because the new interval [4,8] overlaps with [3,5],[6,7],[8,10].\n",
        "\n",
        "\n",
        "Constraints:\n",
        "\n",
        "0 <= intervals.length <= 104\n",
        "intervals[i].length == 2\n",
        "0 <= starti <= endi <= 105\n",
        "intervals is sorted by starti in ascending order.\n",
        "newInterval.length == 2\n",
        "0 <= start <= end <= 105\n",
        "\n",
        "'''\n",
        "def insert(intervals,newInterval):\n",
        "  res =[]\n",
        "  for interval in intervals:\n",
        "    print(newInterval)\n",
        "    print(interval)\n",
        "    print(res)\n",
        "    if interval[1] < newInterval[0]:\n",
        "      res.append(interval)\n",
        "    elif interval[0] > newInterval[1]:\n",
        "      res.append(newInterval)\n",
        "      newInterval = interval\n",
        "    elif interval[1] >= newInterval[0] or interval[0]<=newInterval[1]:\n",
        "      newInterval[0]=min(interval[0],newInterval[0])\n",
        "      newInterval[1]=max(interval[1],newInterval[1])\n",
        "  res.append(newInterval)\n",
        "  return res\n",
        "\n",
        "insert([[1,2],[3,5],[6,7],[8,10],[12,16]],[4,8])"
      ],
      "metadata": {
        "colab": {
          "base_uri": "https://localhost:8080/"
        },
        "id": "lFsLyA-PjgXm",
        "outputId": "7d043924-f5f6-48e6-8bf2-6c499f144cb0"
      },
      "execution_count": 53,
      "outputs": [
        {
          "output_type": "stream",
          "name": "stdout",
          "text": [
            "[4, 8]\n",
            "[1, 2]\n",
            "[]\n",
            "[4, 8]\n",
            "[3, 5]\n",
            "[[1, 2]]\n",
            "[3, 8]\n",
            "[6, 7]\n",
            "[[1, 2]]\n",
            "[3, 8]\n",
            "[8, 10]\n",
            "[[1, 2]]\n",
            "[3, 10]\n",
            "[12, 16]\n",
            "[[1, 2]]\n"
          ]
        },
        {
          "output_type": "execute_result",
          "data": {
            "text/plain": [
              "[[1, 2], [3, 10], [12, 16]]"
            ]
          },
          "metadata": {},
          "execution_count": 53
        }
      ]
    },
    {
      "cell_type": "code",
      "source": [
        "'''\n",
        "\n",
        "452. Minimum Number of Arrows to Burst Balloons\n",
        "\n",
        "Example 1:\n",
        "\n",
        "Input: points = [[10,16],[2,8],[1,6],[7,12]]\n",
        "Output: 2\n",
        "Explanation: The balloons can be burst by 2 arrows:\n",
        "- Shoot an arrow at x = 6, bursting the balloons [2,8] and [1,6].\n",
        "- Shoot an arrow at x = 11, bursting the balloons [10,16] and [7,12].\n",
        "Example 2:\n",
        "\n",
        "Input: points = [[1,2],[3,4],[5,6],[7,8]]\n",
        "Output: 4\n",
        "Explanation: One arrow needs to be shot for each balloon for a total of 4 arrows.\n",
        "Example 3:\n",
        "\n",
        "Input: points = [[1,2],[2,3],[3,4],[4,5]]\n",
        "Output: 2\n",
        "Explanation: The balloons can be burst by 2 arrows:\n",
        "- Shoot an arrow at x = 2, bursting the balloons [1,2] and [2,3].\n",
        "- Shoot an arrow at x = 4, bursting the balloons [3,4] and [4,5].\n",
        "\n",
        "Constraints:\n",
        "\n",
        "1 <= points.length <= 105\n",
        "points[i].length == 2\n",
        "-231 <= xstart < xend <= 231 - 1\n",
        "\n",
        "\n",
        "'''\n",
        "def findMinArrowShots(points):\n",
        "  points.sort(key=lambda x:x[0])\n",
        "  print(points)\n",
        "  res=0\n",
        "  current=[]\n",
        "  for point in points:\n",
        "    if not current:\n",
        "      res+=1\n",
        "      current=point\n",
        "    elif current[1] >=point[0]:\n",
        "      current[0]=max(current[0],point[0])\n",
        "      current[1]=min(current[1],point[1])\n",
        "    elif current[1] <point[0]:\n",
        "      res+=1\n",
        "      current=point\n",
        "  return res\n",
        "\n",
        "\n",
        "findMinArrowShots([[3,9],[7,12],[3,8],[6,8],[9,10],[2,9],[0,9],[3,9],[0,6],[2,8]])"
      ],
      "metadata": {
        "colab": {
          "base_uri": "https://localhost:8080/"
        },
        "id": "DezUyWgm2dcH",
        "outputId": "38f23496-8e1e-4021-939a-c58bbfc30e72"
      },
      "execution_count": 58,
      "outputs": [
        {
          "output_type": "stream",
          "name": "stdout",
          "text": [
            "[[0, 9], [0, 6], [2, 9], [2, 8], [3, 9], [3, 8], [3, 9], [6, 8], [7, 12], [9, 10]]\n"
          ]
        },
        {
          "output_type": "execute_result",
          "data": {
            "text/plain": [
              "2"
            ]
          },
          "metadata": {},
          "execution_count": 58
        }
      ]
    },
    {
      "cell_type": "code",
      "source": [
        "'''\n",
        "71. Simplify Path\n",
        "\n",
        "Given a string path, which is an absolute path (starting with a slash '/') to a file or directory in a Unix-style file system, convert it to the simplified canonical path.\n",
        "\n",
        "In a Unix-style file system, a period '.' refers to the current directory, a double period '..' refers to the directory up a level, and any multiple consecutive slashes (i.e. '//') are treated as a single slash '/'.\n",
        "For this problem, any other format of periods such as '...' are treated as file/directory names.\n",
        "\n",
        "\n",
        "The canonical path should have the following format:\n",
        "\n",
        "The path starts with a single slash '/'.\n",
        "Any two directories are separated by a single slash '/'.\n",
        "The path does not end with a trailing '/'.\n",
        "The path only contains the directories on the path from the root directory to the target file or directory (i.e., no period '.' or double period '..')\n",
        "Return the simplified canonical path.\n",
        "\n",
        "Example 1:\n",
        "\n",
        "Input: path = \"/home/\"\n",
        "Output: \"/home\"\n",
        "Explanation: Note that there is no trailing slash after the last directory name.\n",
        "Example 2:\n",
        "\n",
        "Input: path = \"/../\"\n",
        "Output: \"/\"\n",
        "Explanation: Going one level up from the root directory is a no-op, as the root level is the highest level you can go.\n",
        "Example 3:\n",
        "\n",
        "Input: path = \"/home//foo/\"\n",
        "Output: \"/home/foo\"\n",
        "Explanation: In the canonical path, multiple consecutive slashes are replaced by a single one.\n",
        "\n",
        "path consists of English letters, digits, period '.', slash '/' or '_'.\n",
        "path is a valid absolute Unix path.\n",
        "\n",
        "'''\n",
        "def simplifyPath(path)-> str:\n",
        "  dir_stack = []\n",
        "  path = path.split(\"/\")\n",
        "  for elem in path:\n",
        "    if dir_stack and elem ==\"..\":\n",
        "      dir_stack.pop()\n",
        "    elif elem not in [\".\",\"\",\"..\"]:\n",
        "      dir_stack.append(elem)\n",
        "    print(dir_stack)\n",
        "  return \"/\"+\"/\".join(dir_stack)\n",
        "simplifyPath(\"/home//foo/../kang\")"
      ],
      "metadata": {
        "colab": {
          "base_uri": "https://localhost:8080/",
          "height": 140
        },
        "id": "APm0ja022-9u",
        "outputId": "2f245810-a262-4c3a-d205-587a9faada79"
      },
      "execution_count": 62,
      "outputs": [
        {
          "output_type": "stream",
          "name": "stdout",
          "text": [
            "[]\n",
            "['home']\n",
            "['home']\n",
            "['home', 'foo']\n",
            "['home']\n",
            "['home', 'kang']\n"
          ]
        },
        {
          "output_type": "execute_result",
          "data": {
            "text/plain": [
              "'/home/kang'"
            ],
            "application/vnd.google.colaboratory.intrinsic+json": {
              "type": "string"
            }
          },
          "metadata": {},
          "execution_count": 62
        }
      ]
    },
    {
      "cell_type": "code",
      "source": [
        "'''\n",
        "20. Valid Parentheses\n",
        "\n",
        "Given a string s containing just the characters '(', ')', '{', '}', '[' and ']', determine if the input string is valid.\n",
        "\n",
        "An input string is valid if:\n",
        "\n",
        "Open brackets must be closed by the same type of brackets.\n",
        "Open brackets must be closed in the correct order.\n",
        "Every close bracket has a corresponding open bracket of the same type.\n",
        "\n",
        "\n",
        "Example 1:\n",
        "\n",
        "Input: s = \"()\"\n",
        "Output: true\n",
        "Example 2:\n",
        "\n",
        "Input: s = \"()[]{}\"\n",
        "Output: true\n",
        "Example 3:\n",
        "\n",
        "Input: s = \"(]\"\n",
        "Output: false\n",
        "\n",
        "\n",
        "Constraints:\n",
        "\n",
        "1 <= s.length <= 104\n",
        "s consists of parentheses only '()[]{}'.\n",
        "'''\n",
        "def isValid(s)->bool:\n",
        "  parenthesesDic = {\n",
        "      \"(\":\")\",\n",
        "      \"[\":\"]\",\n",
        "      \"{\":\"}\"\n",
        "  }\n",
        "  parenthesesStack =[]\n",
        "  for c in s:\n",
        "    print(parenthesesStack)\n",
        "\n",
        "    if c in parenthesesDic:\n",
        "      parenthesesStack.append(c)\n",
        "    elif len(parenthesesStack) ==0 or parenthesesDic[parenthesesStack.pop()] !=c:\n",
        "      return False\n",
        "  return len(parenthesesStack)==0\n",
        "    # if not parenthesesStack:\n",
        "    #   parenthesesStack.append(c)\n",
        "    # elif c in parenthesesDic:\n",
        "\n",
        "    # elif parenthesesStack[len(parenthesesStack)-1] not in parenthesesDic:\n",
        "    #   parenthesesStack.append(c)\n",
        "    # if parenthesesDic[parenthesesStack[len(parenthesesStack)-1]] ==c:\n",
        "    #   parenthesesStack.pop()\n",
        "    # else:\n",
        "    #   return False\n",
        "\n",
        "  # if parenthesesStack:\n",
        "  #   return False\n",
        "  # else:\n",
        "  #   return True\n",
        "\n",
        "print(isValid(\"]}{[\"))"
      ],
      "metadata": {
        "colab": {
          "base_uri": "https://localhost:8080/"
        },
        "id": "Ypkgc8XvNN7K",
        "outputId": "1a6a9a9e-fe59-40f1-ad0a-6ef7dec571f6"
      },
      "execution_count": 75,
      "outputs": [
        {
          "output_type": "stream",
          "name": "stdout",
          "text": [
            "[]\n",
            "False\n"
          ]
        }
      ]
    },
    {
      "cell_type": "code",
      "source": [
        "from inspect import stack\n",
        "'''\n",
        "155. Min Stack\n",
        "\n",
        "Design a stack that supports push, pop, top, and retrieving the minimum element in constant time.\n",
        "\n",
        "Implement the MinStack class:\n",
        "\n",
        "MinStack() initializes the stack object.\n",
        "void push(int val) pushes the element val onto the stack.\n",
        "void pop() removes the element on the top of the stack.\n",
        "int top() gets the top element of the stack.\n",
        "int getMin() retrieves the minimum element in the stack.\n",
        "You must implement a solution with O(1) time complexity for each function.\n",
        "\n",
        "\n",
        "\n",
        "Example 1:\n",
        "\n",
        "Input\n",
        "[\"MinStack\",\"push\",\"push\",\"push\",\"getMin\",\"pop\",\"top\",\"getMin\"]\n",
        "[[],[-2],[0],[-3],[],[],[],[]]\n",
        "\n",
        "Output\n",
        "[null,null,null,null,-3,null,0,-2]\n",
        "\n",
        "Explanation\n",
        "MinStack minStack = new MinStack();\n",
        "minStack.push(-2);\n",
        "\n",
        "minStack.push(0);\n",
        "minStack.push(-3);\n",
        "[-2,0,-3]\n",
        "minStack.getMin(); // return -3\n",
        "minStack.pop();\n",
        "minStack.top();    // return 0\n",
        "minStack.getMin(); // return -2\n",
        "\n",
        "\n",
        "Constraints:\n",
        "\n",
        "-231 <= val <= 231 - 1\n",
        "Methods pop, top and getMin operations will always be called on non-empty stacks.\n",
        "At most 3 * 104 calls will be made to push, pop, top, and getMin.\n",
        "\n",
        "'''\n",
        "class MinStack:\n",
        "\n",
        "    def __init__(self):\n",
        "        self.stack =[]\n",
        "\n",
        "    def push(self, val: int) -> None:\n",
        "        self.stack.append(val)\n",
        "\n",
        "    def pop(self) -> None:\n",
        "        self.stack.pop()\n",
        "\n",
        "    def top(self) -> int:\n",
        "        if len(self.stack)!=0:\n",
        "            return self.stack[len(self.stack)-1]\n",
        "        else:\n",
        "            return -1\n",
        "\n",
        "    def getMin(self) -> int:\n",
        "        if len(self.stack) == 0:\n",
        "            return -1\n",
        "        else:\n",
        "            return min(self.stack)\n",
        "\n",
        "'''\n",
        " fast speed\n",
        "'''\n",
        "\n",
        "class MinStack:\n",
        "\n",
        "    def __init__(self):\n",
        "        self.stack =[]\n",
        "        self.minStack = []\n",
        "\n",
        "    def push(self, val: int) -> None:\n",
        "        self.stack.append(val)\n",
        "        if self.minStack:\n",
        "            val = min(self.minStack[-1],val)\n",
        "        self.minStack.append(val)\n",
        "\n",
        "\n",
        "    def pop(self) -> None:\n",
        "        self.stack.pop()\n",
        "        self.minStack.pop()\n",
        "\n",
        "    def top(self) -> int:\n",
        "        return self.stack[-1]\n",
        "\n",
        "\n",
        "    def getMin(self) -> int:\n",
        "        return self.minStack[-1]\n",
        "\n"
      ],
      "metadata": {
        "colab": {
          "base_uri": "https://localhost:8080/",
          "height": 331
        },
        "id": "yU-10SHFTLbK",
        "outputId": "27104efe-6682-4c5c-e7df-ad6d5ff10fc9"
      },
      "execution_count": 78,
      "outputs": [
        {
          "output_type": "error",
          "ename": "ValueError",
          "evalue": "ignored",
          "traceback": [
            "\u001b[0;31m---------------------------------------------------------------------------\u001b[0m",
            "\u001b[0;31mValueError\u001b[0m                                Traceback (most recent call last)",
            "\u001b[0;32m<ipython-input-78-74059eb7eba4>\u001b[0m in \u001b[0;36m<cell line: 74>\u001b[0;34m()\u001b[0m\n\u001b[1;32m     72\u001b[0m \u001b[0mobj\u001b[0m\u001b[0;34m.\u001b[0m\u001b[0mpop\u001b[0m\u001b[0;34m(\u001b[0m\u001b[0;34m)\u001b[0m\u001b[0;34m\u001b[0m\u001b[0;34m\u001b[0m\u001b[0m\n\u001b[1;32m     73\u001b[0m \u001b[0mparam_3\u001b[0m \u001b[0;34m=\u001b[0m \u001b[0mobj\u001b[0m\u001b[0;34m.\u001b[0m\u001b[0mtop\u001b[0m\u001b[0;34m(\u001b[0m\u001b[0;34m)\u001b[0m\u001b[0;34m\u001b[0m\u001b[0;34m\u001b[0m\u001b[0m\n\u001b[0;32m---> 74\u001b[0;31m \u001b[0mparam_4\u001b[0m \u001b[0;34m=\u001b[0m \u001b[0mobj\u001b[0m\u001b[0;34m.\u001b[0m\u001b[0mgetMin\u001b[0m\u001b[0;34m(\u001b[0m\u001b[0;34m)\u001b[0m\u001b[0;34m\u001b[0m\u001b[0;34m\u001b[0m\u001b[0m\n\u001b[0m",
            "\u001b[0;32m<ipython-input-78-74059eb7eba4>\u001b[0m in \u001b[0;36mgetMin\u001b[0;34m(self)\u001b[0m\n\u001b[1;32m     64\u001b[0m     \u001b[0;32mdef\u001b[0m \u001b[0mgetMin\u001b[0m\u001b[0;34m(\u001b[0m\u001b[0mself\u001b[0m\u001b[0;34m)\u001b[0m \u001b[0;34m->\u001b[0m \u001b[0mint\u001b[0m\u001b[0;34m:\u001b[0m\u001b[0;34m\u001b[0m\u001b[0;34m\u001b[0m\u001b[0m\n\u001b[1;32m     65\u001b[0m       \u001b[0;32mif\u001b[0m \u001b[0;32mnot\u001b[0m \u001b[0mself\u001b[0m\u001b[0;34m.\u001b[0m\u001b[0mstack\u001b[0m\u001b[0;34m:\u001b[0m\u001b[0;34m\u001b[0m\u001b[0;34m\u001b[0m\u001b[0m\n\u001b[0;32m---> 66\u001b[0;31m         \u001b[0;32mreturn\u001b[0m \u001b[0mmin\u001b[0m\u001b[0;34m(\u001b[0m\u001b[0mself\u001b[0m\u001b[0;34m.\u001b[0m\u001b[0mstack\u001b[0m\u001b[0;34m)\u001b[0m\u001b[0;34m\u001b[0m\u001b[0;34m\u001b[0m\u001b[0m\n\u001b[0m\u001b[1;32m     67\u001b[0m       \u001b[0;32melse\u001b[0m\u001b[0;34m:\u001b[0m\u001b[0;34m\u001b[0m\u001b[0;34m\u001b[0m\u001b[0m\n\u001b[1;32m     68\u001b[0m         \u001b[0;32mreturn\u001b[0m \u001b[0;34m-\u001b[0m\u001b[0;36m1\u001b[0m\u001b[0;34m\u001b[0m\u001b[0;34m\u001b[0m\u001b[0m\n",
            "\u001b[0;31mValueError\u001b[0m: min() arg is an empty sequence"
          ]
        }
      ]
    },
    {
      "cell_type": "code",
      "source": [
        "'''\n",
        "150. Evaluate Reverse Polish Notation\n",
        "\n",
        "You are given an array of strings tokens that represents an arithmetic expression in a Reverse Polish Notation.\n",
        "\n",
        "Evaluate the expression. Return an integer that represents the value of the expression.\n",
        "\n",
        "Note that:\n",
        "\n",
        "The valid operators are '+', '-', '*', and '/'.\n",
        "Each operand may be an integer or another expression.\n",
        "The division between two integers always truncates toward zero.\n",
        "There will not be any division by zero.\n",
        "The input represents a valid arithmetic expression in a reverse polish notation.\n",
        "The answer and all the intermediate calculations can be represented in a 32-bit integer.\n",
        "\n",
        "\n",
        "Example 1:\n",
        "\n",
        "Input: tokens = [\"2\",\"1\",\"+\",\"3\",\"*\"]\n",
        "Output: 9\n",
        "Explanation: ((2 + 1) * 3) = 9\n",
        "Example 2:\n",
        "\n",
        "Input: tokens = [\"4\",\"13\",\"5\",\"/\",\"+\"]\n",
        "Output: 6\n",
        "Explanation: (4 + (13 / 5)) = 6\n",
        "Example 3:\n",
        "\n",
        "Input: tokens = [\"10\",\"6\",\"9\",\"3\",\"+\",\"-11\",\"*\",\"/\",\"*\",\"17\",\"+\",\"5\",\"+\"]\n",
        "Output: 22\n",
        "Explanation: ((10 * (6 / ((9 + 3) * -11))) + 17) + 5\n",
        "= ((10 * (6 / (12 * -11))) + 17) + 5\n",
        "= ((10 * (6 / -132)) + 17) + 5\n",
        "= ((10 * 0) + 17) + 5\n",
        "= (0 + 17) + 5\n",
        "= 17 + 5\n",
        "= 22\n",
        "\n",
        "\n",
        "Constraints:\n",
        "\n",
        "1 <= tokens.length <= 104\n",
        "tokens[i] is either an operator: \"+\", \"-\", \"*\", or \"/\", or an integer in the range [-200, 200].\n",
        "\n",
        "\n",
        "'''\n",
        "import operator\n",
        "\n",
        "\n",
        "def evalRPN(tokens)-> int:\n",
        "  ops = {\n",
        "    '+' : operator.add,\n",
        "    '-' : operator.sub,\n",
        "    '*' : operator.mul,\n",
        "    '/' : operator.truediv\n",
        "  }\n",
        "  operations = []\n",
        "  nums =[]\n",
        "  for i in tokens:\n",
        "    print(nums)\n",
        "    if i.lstrip('-').isdigit():\n",
        "      nums.append(int(i))\n",
        "    else:\n",
        "      first=nums.pop()\n",
        "      second=nums.pop()\n",
        "      nums.append(int(ops[i](second,first)))\n",
        "  return sum(nums)\n",
        "\n",
        "evalRPN([\"10\",\"6\",\"9\",\"3\",\"+\",\"-11\",\"*\",\"/\",\"*\",\"17\",\"+\",\"5\",\"+\"])\n",
        ""
      ],
      "metadata": {
        "colab": {
          "base_uri": "https://localhost:8080/"
        },
        "id": "FUIhBJ_fd6IV",
        "outputId": "c3ab20b2-bc93-4cdc-93a3-222f3029ea89"
      },
      "execution_count": 91,
      "outputs": [
        {
          "output_type": "stream",
          "name": "stdout",
          "text": [
            "[]\n",
            "[10]\n",
            "[10, 6]\n",
            "[10, 6, 9]\n",
            "[10, 6, 9, 3]\n",
            "[10, 6, 12]\n",
            "[10, 6, 12, -11]\n",
            "[10, 6, -132]\n",
            "[10, 0]\n",
            "[0]\n",
            "[0, 17]\n",
            "[17]\n",
            "[17, 5]\n"
          ]
        },
        {
          "output_type": "execute_result",
          "data": {
            "text/plain": [
              "22"
            ]
          },
          "metadata": {},
          "execution_count": 91
        }
      ]
    },
    {
      "cell_type": "code",
      "source": [
        "'''\n",
        "2. Add Two Numbers\n",
        "\n",
        "You are given two non-empty linked lists representing two non-negative integers. The digits are stored in reverse order,\n",
        "and each of their nodes contains a single digit. Add the two numbers and return the sum as a linked list.\n",
        "\n",
        "You may assume the two numbers do not contain any leading zero, except the number 0 itself.\n",
        "\n",
        "Example 1:\n",
        "\n",
        "Input: l1 = [2,4,3], l2 = [5,6,4]\n",
        "Output: [7,0,8]\n",
        "Explanation: 342 + 465 = 807.\n",
        "\n",
        "Example 2:\n",
        "\n",
        "Input: l1 = [0], l2 = [0]\n",
        "Output: [0]\n",
        "\n",
        "Example 3:\n",
        "\n",
        "Input: l1 = [9,9,9,9,9,9,9], l2 = [9,9,9,9]\n",
        "Output: [8,9,9,9,0,0,0,1]\n",
        "\n",
        "\n",
        "Constraints:\n",
        "\n",
        "The number of nodes in each linked list is in the range [1, 100].\n",
        "0 <= Node.val <= 9\n",
        "It is guaranteed that the list represents a number that does not have leading zeros.\n",
        "\n",
        "\n",
        "'''\n",
        "class ListNode:\n",
        "    def __init__(self, val=0, next=None):\n",
        "        self.val = val\n",
        "        self.next = next\n",
        "# def addTwoNumbers(l1: Optional[ListNode], l2: Optional[ListNode]):\n",
        "#   pass\n",
        "\n",
        "print(1%2)\n"
      ],
      "metadata": {
        "colab": {
          "base_uri": "https://localhost:8080/"
        },
        "id": "dVVXVaEZ4A57",
        "outputId": "3c665646-dcb6-48ac-f684-09d623363376"
      },
      "execution_count": 6,
      "outputs": [
        {
          "output_type": "stream",
          "name": "stdout",
          "text": [
            "1\n"
          ]
        }
      ]
    },
    {
      "cell_type": "code",
      "source": [
        "'''\n",
        "67. Add Binary\n",
        "\n",
        "Given two binary strings a and b, return their sum as a binary string.\n",
        "\n",
        "\n",
        "\n",
        "Example 1:\n",
        "\n",
        "Input: a = \"11\", b = \"1\"\n",
        "Output: \"100\"\n",
        "Example 2:\n",
        "\n",
        "Input: a = \"1010\", b = \"1011\"\n",
        "Output: \"10101\"\n",
        "\n",
        "\n",
        "Constraints:\n",
        "\n",
        "1 <= a.length, b.length <= 104\n",
        "a and b consist only of '0' or '1' characters.\n",
        "Each string does not contain leading zeros except for the zero itself.\n",
        "\n",
        "'''\n",
        "def addBinary(a: str, b: str) -> str:\n",
        "    result = \"\"\n",
        "    carry = 0\n",
        "    i,j=len(a)-1,len(b)-1\n",
        "    while i>=0 or j>=0 or carry !=0:\n",
        "        temp= carry\n",
        "        if i >=0:\n",
        "            temp +=int(a[i])\n",
        "            i-=1\n",
        "        if j>=0:\n",
        "            temp+=int(b[j])\n",
        "            j-=1\n",
        "        carry = temp//2\n",
        "        result = str(temp%2)+result\n",
        "    return result\n",
        "addBinary(\"1010\",\"1011\")"
      ],
      "metadata": {
        "colab": {
          "base_uri": "https://localhost:8080/",
          "height": 36
        },
        "id": "QsDjQl6_bBlT",
        "outputId": "282ee3e9-f0ec-49c5-e859-bbef2d7f990d"
      },
      "execution_count": 4,
      "outputs": [
        {
          "output_type": "execute_result",
          "data": {
            "text/plain": [
              "'10101'"
            ],
            "application/vnd.google.colaboratory.intrinsic+json": {
              "type": "string"
            }
          },
          "metadata": {},
          "execution_count": 4
        }
      ]
    },
    {
      "cell_type": "code",
      "source": [
        "'''\n",
        "141. Linked List Cycle\n",
        "\n",
        "Given head, the head of a linked list, determine if the linked list has a cycle in it.\n",
        "\n",
        "There is a cycle in a linked list if there is some node in the list that can be reached again by continuously following the next pointer.\n",
        "Internally, pos is used to denote the index of the node that tail's next pointer is connected to.\n",
        "Note that pos is not passed as a parameter.\n",
        "\n",
        "Return true if there is a cycle in the linked list. Otherwise, return false.\n",
        "\n",
        "Example 1:\n",
        "\n",
        "Input: head = [3,2,0,-4], pos = 1\n",
        "Output: true\n",
        "Explanation: There is a cycle in the linked list, where the tail connects to the 1st node (0-indexed).\n",
        "Example 2:\n",
        "\n",
        "Input: head = [1,2], pos = 0\n",
        "Output: true\n",
        "Explanation: There is a cycle in the linked list, where the tail connects to the 0th node.\n",
        "Example 3:\n",
        "\n",
        "Input: head = [1], pos = -1\n",
        "Output: false\n",
        "Explanation: There is no cycle in the linked list.\n",
        "\n",
        "Constraints:\n",
        "\n",
        "The number of the nodes in the list is in the range [0, 104].\n",
        "-105 <= Node.val <= 105\n",
        "pos is -1 or a valid index in the linked-list.\n",
        "\n",
        "'''\n",
        "from typing import Optional\n",
        "# Definition for singly-linked list.\n",
        "class ListNode:\n",
        "    def __init__(self, x):\n",
        "        self.val = x\n",
        "        self.next = None\n",
        "\n",
        "def hasCycle(head: Optional[ListNode]) -> bool:\n",
        "    # dictionary = {}\n",
        "    # while head:\n",
        "    #     if head in dictionary:\n",
        "    #         return True\n",
        "    #     else:\n",
        "    #         dictionary[head]= True\n",
        "    #     head = head.next\n",
        "    return False\n",
        "\n",
        "hasCycle([1,2])\n",
        "\n"
      ],
      "metadata": {
        "colab": {
          "base_uri": "https://localhost:8080/"
        },
        "id": "BGrhffJERIEb",
        "outputId": "0844cc2d-1d36-4fdc-ac32-d823f6f8192e"
      },
      "execution_count": 5,
      "outputs": [
        {
          "output_type": "execute_result",
          "data": {
            "text/plain": [
              "False"
            ]
          },
          "metadata": {},
          "execution_count": 5
        }
      ]
    },
    {
      "cell_type": "code",
      "source": [
        "'''\n",
        "200. Number of Islands\n",
        "\n",
        "Given an m x n 2D binary grid grid which represents a map of '1's (land) and '0's (water), return the number of islands.\n",
        "\n",
        "An island is surrounded by water and is formed by connecting adjacent lands horizontally or vertically. You may assume all four edges of the grid are all surrounded by water.\n",
        "\n",
        "\n",
        "\n",
        "Example 1:\n",
        "\n",
        "Input: grid = [\n",
        "  [\"1\",\"1\",\"1\",\"1\",\"0\"],\n",
        "  [\"1\",\"1\",\"0\",\"1\",\"0\"],\n",
        "  [\"1\",\"1\",\"0\",\"0\",\"0\"],\n",
        "  [\"0\",\"0\",\"0\",\"0\",\"0\"]\n",
        "]\n",
        "Output: 1\n",
        "Example 2:\n",
        "\n",
        "Input: grid = [\n",
        "  [\"1\",\"1\",\"0\",\"0\",\"0\"],\n",
        "  [\"1\",\"1\",\"0\",\"0\",\"0\"],\n",
        "  [\"0\",\"0\",\"1\",\"0\",\"0\"],\n",
        "  [\"0\",\"0\",\"0\",\"1\",\"1\"]\n",
        "]\n",
        "Output: 3\n",
        "\n",
        "\n",
        "Constraints:\n",
        "\n",
        "m == grid.length\n",
        "n == grid[i].length\n",
        "1 <= m, n <= 300\n",
        "grid[i][j] is '0' or '1'.\n",
        "\n",
        "\n",
        "'''\n",
        "def numIslands(grid) -> int:\n",
        "  if not grid:\n",
        "    return 0\n",
        "  m = len(grid)\n",
        "  n =len(grid[0])\n",
        "  res = 0\n",
        "  for i in range(m):\n",
        "    for j in range(n):\n",
        "      if grid[i][j] == \"1\":\n",
        "        dfs(grid,i,j)\n",
        "        print(grid)\n",
        "        res+=1\n",
        "  return res\n",
        "\n",
        "\n",
        "def dfs(grid,i,j):\n",
        "    if i<0 or j<0 or i>=len(grid) or j>=len(grid[0]) or grid[i][j] !=\"1\":\n",
        "        return\n",
        "    grid[i][j]=\"#\"\n",
        "    dfs(grid,i+1,j)\n",
        "    dfs(grid,i-1,j)\n",
        "    dfs(grid,i,j+1)\n",
        "    dfs(grid,i,j-1)\n",
        "numIslands([\n",
        "  [\"1\",\"1\",\"1\",\"1\",\"0\"],\n",
        "  [\"1\",\"1\",\"0\",\"0\",\"1\"],\n",
        "  [\"1\",\"1\",\"0\",\"0\",\"0\"],\n",
        "  [\"0\",\"0\",\"1\",\"0\",\"0\"]\n",
        "])"
      ],
      "metadata": {
        "colab": {
          "base_uri": "https://localhost:8080/"
        },
        "id": "VkN6jgAwxxOB",
        "outputId": "ffa10613-50c4-4603-fad7-a6d0b9cb2ca4"
      },
      "execution_count": 12,
      "outputs": [
        {
          "output_type": "stream",
          "name": "stdout",
          "text": [
            "[['#', '#', '#', '#', '0'], ['#', '#', '0', '0', '1'], ['#', '#', '0', '0', '0'], ['0', '0', '1', '0', '0']]\n",
            "[['#', '#', '#', '#', '0'], ['#', '#', '0', '0', '#'], ['#', '#', '0', '0', '0'], ['0', '0', '1', '0', '0']]\n",
            "[['#', '#', '#', '#', '0'], ['#', '#', '0', '0', '#'], ['#', '#', '0', '0', '0'], ['0', '0', '#', '0', '0']]\n"
          ]
        },
        {
          "output_type": "execute_result",
          "data": {
            "text/plain": [
              "3"
            ]
          },
          "metadata": {},
          "execution_count": 12
        }
      ]
    },
    {
      "cell_type": "code",
      "source": [
        "'''\n",
        "130. Surrounded Regions\n",
        "\n",
        "Given an m x n matrix board containing 'X' and 'O', capture all regions that are 4-directionally surrounded by 'X'.\n",
        "\n",
        "A region is captured by flipping all 'O's into 'X's in that surrounded region.\n",
        "\n",
        "\n",
        "\n",
        "Example 1:\n",
        "\n",
        "\n",
        "Input: board = [[\"X\",\"X\",\"X\",\"X\"],[\"X\",\"O\",\"O\",\"X\"],[\"X\",\"X\",\"O\",\"X\"],[\"X\",\"O\",\"X\",\"X\"]]\n",
        "Output: [[\"X\",\"X\",\"X\",\"X\"],[\"X\",\"X\",\"X\",\"X\"],[\"X\",\"X\",\"X\",\"X\"],[\"X\",\"O\",\"X\",\"X\"]]\n",
        "Explanation: Notice that an 'O' should not be flipped if:\n",
        "- It is on the border, or\n",
        "- It is adjacent to an 'O' that should not be flipped.\n",
        "The bottom 'O' is on the border, so it is not flipped.\n",
        "The other three 'O' form a surrounded region, so they are flipped.\n",
        "Example 2:\n",
        "\n",
        "Input: board = [[\"X\"]]\n",
        "Output: [[\"X\"]]\n",
        "\n",
        "\n",
        "Constraints:\n",
        "\n",
        "m == board.length\n",
        "n == board[i].length\n",
        "1 <= m, n <= 200\n",
        "board[i][j] is 'X' or 'O'.\n",
        "\n",
        "\n",
        "two method BFS and DFS\n",
        "\n",
        "'''\n",
        "def solve(board):\n",
        "  if not board or not board[0]:\n",
        "      return\n",
        "  R, C = len(board), len(board[0])\n",
        "  if R <= 2 or C <= 2:\n",
        "      return\n",
        "  #[[\"X\",\"X\",\"X\",\"X\"],[\"X\",\"O\",\"O\",\"X\"],[\"X\",\"X\",\"O\",\"X\"],[\"X\",\"O\",\"X\",\"X\"]]\n",
        "  # start from the boarder and replace all O to N\n",
        "  # put all the boarder value into queue.\n",
        "  for r in range(R):\n",
        "      dfs(board, r, 0)\n",
        "      dfs(board, r, C-1)\n",
        "\n",
        "  for c in range(C):\n",
        "      dfs(board, 0, c)\n",
        "      dfs(board, R-1, c)\n",
        "  print(board)\n",
        "  #[['X', 'X', 'X', 'X'], ['X', 'O', 'O', 'X'], ['X', 'X', 'O', 'X'], ['X', 'N', 'X', 'X']]\n",
        "\n",
        "  # replace all the O to X, then replace all the N to O\n",
        "  for r in range(R):\n",
        "      for c in range(C):\n",
        "          if board[r][c] == \"O\":\n",
        "              board[r][c] = \"X\"\n",
        "          if board[r][c] == \"N\":\n",
        "              board[r][c] = \"O\"\n",
        "\n",
        "  print(board)\n",
        "  #[['X', 'X', 'X', 'X'], ['X', 'X', 'X', 'X'], ['X', 'X', 'X', 'X'], ['X', 'O', 'X', 'X']]\n",
        "\n",
        "def dfs(board, r, c):\n",
        "    if 0<=r<len(board) and 0<=c<len(board[0]) and board[r][c] == \"O\":\n",
        "        board[r][c] = \"N\"\n",
        "        dfs(board, r, c+1)\n",
        "        dfs(board, r, c-1)\n",
        "        dfs(board, r-1, c)\n",
        "        dfs(board, r+1, c)\n",
        "\n",
        "\n",
        "\n",
        "\n",
        "solve([[\"X\",\"X\",\"X\",\"X\"],[\"X\",\"O\",\"O\",\"X\"],[\"X\",\"X\",\"O\",\"X\"],[\"X\",\"O\",\"X\",\"X\"]])\n"
      ],
      "metadata": {
        "colab": {
          "base_uri": "https://localhost:8080/"
        },
        "id": "EYafdzS6XMz_",
        "outputId": "1568540b-3743-4230-9968-7d5e5d368281"
      },
      "execution_count": 21,
      "outputs": [
        {
          "output_type": "stream",
          "name": "stdout",
          "text": [
            "[['X', 'X', 'X', 'X'], ['X', 'O', 'O', 'X'], ['X', 'X', 'O', 'X'], ['X', 'N', 'X', 'X']]\n",
            "[['X', 'X', 'X', 'X'], ['X', 'X', 'X', 'X'], ['X', 'X', 'X', 'X'], ['X', 'O', 'X', 'X']]\n"
          ]
        }
      ]
    },
    {
      "cell_type": "code",
      "source": [
        "from collections import deque\n",
        "\n",
        "class Solution:\n",
        "    '''\n",
        "    Time complexity : O(MXN)\n",
        "    Space complexity : O(MXN) in worse case\n",
        "\n",
        "    First, check the four border of the matrix. If there is a element is\n",
        "    'O', alter it and all its neighbor 'O' elements to 'N'.\n",
        "\n",
        "    Then ,alter all the 'O' to 'X'\n",
        "\n",
        "    At last,alter all the 'N' to 'O'\n",
        "\n",
        "    example:\n",
        "\n",
        "    X X X X           X X X X             X X X X\n",
        "    X X O X  ->       X X O X    ->       X X X X\n",
        "    X O X X           X N X X             X O X X\n",
        "    X O X X           X N X X             X O X X\n",
        "\n",
        "    '''\n",
        "    def solve(self, board) -> None:\n",
        "        \"\"\"\n",
        "        Do not return anything, modify board in-place instead.\n",
        "        \"\"\"\n",
        "        if not board or not board[0]:\n",
        "            return\n",
        "        R, C = len(board), len(board[0])\n",
        "        if R <= 2 or C <= 2:\n",
        "            return\n",
        "\n",
        "        # queue for bfs\n",
        "        q = deque()\n",
        "\n",
        "        # start from the boarder and replace all O to N\n",
        "        # put all the boarder value into queue.\n",
        "        for r in range(R):\n",
        "            q.append((r, 0))\n",
        "            q.append((r, C-1))\n",
        "\n",
        "        for c in range(C):\n",
        "            q.append((0, c))\n",
        "            q.append((R-1, c))\n",
        "\n",
        "        while q:\n",
        "            r, c = q.popleft()\n",
        "            if 0<=r<R and 0<=c<C and board[r][c] == \"O\":\n",
        "                # modify the value from O to N\n",
        "                board[r][c] = \"N\"\n",
        "                # append the surrouding cells to queue.\n",
        "                q.append((r, c+1))\n",
        "                q.append((r, c-1))\n",
        "                q.append((r-1, c))\n",
        "                q.append((r+1, c))\n",
        "\n",
        "        # replace all the O to X, then replace all the N to O\n",
        "        for r in range(R):\n",
        "            for c in range(C):\n",
        "                if board[r][c] == \"O\":\n",
        "                    board[r][c] = \"X\"\n",
        "                if board[r][c] == \"N\":\n",
        "                    board[r][c] = \"O\"\n",
        "\n",
        "\n"
      ],
      "metadata": {
        "id": "A6GBIaQwk581"
      },
      "execution_count": null,
      "outputs": []
    }
  ]
}