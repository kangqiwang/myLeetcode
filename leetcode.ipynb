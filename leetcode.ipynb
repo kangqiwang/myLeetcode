{
  "nbformat": 4,
  "nbformat_minor": 0,
  "metadata": {
    "colab": {
      "provenance": [],
      "authorship_tag": "ABX9TyOSEO+H3IkH0XetmpuqCU6u",
      "include_colab_link": true
    },
    "kernelspec": {
      "name": "python3",
      "display_name": "Python 3"
    },
    "language_info": {
      "name": "python"
    }
  },
  "cells": [
    {
      "cell_type": "markdown",
      "metadata": {
        "id": "view-in-github",
        "colab_type": "text"
      },
      "source": [
        "<a href=\"https://colab.research.google.com/github/kangqiwang/myLeetcode/blob/master/leetcode.ipynb\" target=\"_parent\"><img src=\"https://colab.research.google.com/assets/colab-badge.svg\" alt=\"Open In Colab\"/></a>"
      ]
    },
    {
      "cell_type": "code",
      "execution_count": 17,
      "metadata": {
        "colab": {
          "base_uri": "https://localhost:8080/"
        },
        "id": "D0trsfQEn-3P",
        "outputId": "c3dc5399-6543-4de2-a106-7ec9d0156296"
      },
      "outputs": [
        {
          "output_type": "stream",
          "name": "stdout",
          "text": [
            "8\n"
          ]
        }
      ],
      "source": [
        "'''\n",
        "190. Reverse Bits\n",
        "\n",
        "Reverse bits of a given 32 bits unsigned integer.\n",
        "\n",
        "Note:\n",
        "\n",
        "Note that in some languages, such as Java,\n",
        "there is no unsigned integer type. In this case,\n",
        "both input and output will be given as a signed integer type.\n",
        "They should not affect your implementation, as the integer's internal binary representation is the same,\n",
        "whether it is signed or unsigned.\n",
        "In Java, the compiler represents the signed integers using 2's complement notation.\n",
        "Therefore, in Example 2 above,\n",
        "the input represents the signed integer -3 and the output represents the signed integer -1073741825.\n",
        "\n",
        "\n",
        "Example 1:\n",
        "\n",
        "Input: n = 00000010100101000001111010011100\n",
        "Output:    964176192 (00111001011110000010100101000000)\n",
        "Explanation: The input binary string 00000010100101000001111010011100 represents the unsigned integer 43261596, so return 964176192 which its binary representation is 00111001011110000010100101000000.\n",
        "Example 2:\n",
        "\n",
        "Input: n = 11111111111111111111111111111101\n",
        "Output:   3221225471 (10111111111111111111111111111111)\n",
        "Explanation: The input binary string 11111111111111111111111111111101 represents the unsigned integer 4294967293, so return 3221225471 which its binary representation is 10111111111111111111111111111111.\n",
        "\n",
        "'''\n",
        "def reverseBits( n) -> int:\n",
        "    res = 0\n",
        "    for _ in range(32):\n",
        "      res = (res<<1) + (n&1)\n",
        "      n>>=1\n",
        "    return res\n",
        "\n",
        "\n",
        "# reverseBits(0b00000010100101000001111010011100)\n",
        "print(4<<1)\n"
      ]
    },
    {
      "cell_type": "code",
      "source": [
        "'''\n",
        "70. Climbing Stairs\n",
        "\n",
        "You are climbing a staircase. It takes n steps to reach the top.\n",
        "\n",
        "Each time you can either climb 1 or 2 steps. In how many distinct ways can you climb to the top?\n",
        "\n",
        "\n",
        "\n",
        "Example 1:\n",
        "\n",
        "Input: n = 2\n",
        "Output: 2\n",
        "Explanation: There are two ways to climb to the top.\n",
        "1. 1 step + 1 step\n",
        "2. 2 steps\n",
        "Example 2:\n",
        "\n",
        "Input: n = 3\n",
        "Output: 3\n",
        "Explanation: There are three ways to climb to the top.\n",
        "1. 1 step + 1 step + 1 step\n",
        "2. 1 step + 2 steps\n",
        "3. 2 steps + 1 step\n",
        "\n",
        "--> store the distinct ways in a dynamic table\n",
        "climb =\n",
        "[climb(0), climb(1), climb(2)=climb(0)+climb(1), climb(3)=climb(2)+climb(1)\n",
        ",......climb(n)=climb(n-1)+climb(n-2)]\n",
        "\n",
        "dp = [ 0, 1, 2, 3, 5, dp(i-1)+dp(i-2])]\n",
        "\n",
        "return dp[n]\n",
        "\n",
        "fibonacci sequence\n",
        "\n",
        "0, 1, 1, 2, 3, 5, 8, 13, 21, 34\n",
        "'''\n",
        "\n",
        "def climbStairs(n: int) -> int:\n",
        "    if n==0: return 0\n",
        "    if n==1: return 1\n",
        "    if n==2: return 2\n",
        "    dp = [0]*(n+1) # considering zero steps we need n+1 places\n",
        "    print(dp)\n",
        "    dp[1]= 1\n",
        "    dp[2] = 2\n",
        "    for i in range(3,n+1):\n",
        "        dp[i] = dp[i-1] +dp[i-2]\n",
        "    print(dp)\n",
        "    return dp[n]\n",
        "\n",
        "climbStairs(10)"
      ],
      "metadata": {
        "colab": {
          "base_uri": "https://localhost:8080/"
        },
        "id": "AfHrI3ZlxBgK",
        "outputId": "5c52acd6-14f3-4d2c-ea08-9fa4aadcc638"
      },
      "execution_count": 22,
      "outputs": [
        {
          "output_type": "stream",
          "name": "stdout",
          "text": [
            "[0, 0, 0, 0, 0, 0, 0, 0, 0, 0, 0]\n",
            "[0, 1, 2, 3, 5, 8, 13, 21, 34, 55, 89]\n"
          ]
        },
        {
          "output_type": "execute_result",
          "data": {
            "text/plain": [
              "89"
            ]
          },
          "metadata": {},
          "execution_count": 22
        }
      ]
    },
    {
      "cell_type": "code",
      "source": [
        "'''\n",
        "139. Word Break\n",
        "\n",
        "Given a string s and a dictionary of strings wordDict,\n",
        "return true if s can be segmented into a space-separated sequence of one or more dictionary words.\n",
        "\n",
        "Note that the same word in the dictionary may be reused multiple times in the segmentation.\n",
        "\n",
        "\n",
        "\n",
        "Example 1:\n",
        "\n",
        "Input: s = \"leetcode\", wordDict = [\"leet\",\"code\"]\n",
        "Output: true\n",
        "Explanation: Return true because \"leetcode\" can be segmented as \"leet code\".\n",
        "Example 2:\n",
        "\n",
        "Input: s = \"applepenapple\", wordDict = [\"apple\",\"pen\"]\n",
        "Output: true\n",
        "Explanation: Return true because \"applepenapple\" can be segmented as \"apple pen apple\".\n",
        "Note that you are allowed to reuse a dictionary word.\n",
        "Example 3:\n",
        "\n",
        "Input: s = \"catsandog\", wordDict = [\"cats\",\"dog\",\"sand\",\"and\",\"cat\"]\n",
        "Output: false\n",
        "'''\n",
        "\n",
        "def wordBreak(s: str, wordDict) -> bool:\n",
        "  n = len(s)\n",
        "  dp = [False] * (n + 1)\n",
        "  dp[0] = True\n",
        "  max_len = max(map(len, wordDict))  # The maximum length of a word in the dictionary\n",
        "\n",
        "  for i in range(1, n + 1):\n",
        "      for j in range(i - 1, max(i - max_len - 1, -1), -1): # Only consider words that could fit\n",
        "          if dp[j] and s[j:i] in wordDict:\n",
        "              dp[i] = True\n",
        "              break\n",
        "\n",
        "  return dp[n]\n",
        "wordBreak(\"applepenapple\",[\"apple\",\"pen\"])"
      ],
      "metadata": {
        "colab": {
          "base_uri": "https://localhost:8080/"
        },
        "id": "hlfhEdNk2I2K",
        "outputId": "e6847c5d-cffb-4aca-c727-3bed46de34b1"
      },
      "execution_count": 25,
      "outputs": [
        {
          "output_type": "execute_result",
          "data": {
            "text/plain": [
              "True"
            ]
          },
          "metadata": {},
          "execution_count": 25
        }
      ]
    }
  ]
}