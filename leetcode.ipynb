{
  "nbformat": 4,
  "nbformat_minor": 0,
  "metadata": {
    "colab": {
      "provenance": [],
      "authorship_tag": "ABX9TyPmahmqrwOm4riThmGzJZvU",
      "include_colab_link": true
    },
    "kernelspec": {
      "name": "python3",
      "display_name": "Python 3"
    },
    "language_info": {
      "name": "python"
    }
  },
  "cells": [
    {
      "cell_type": "markdown",
      "metadata": {
        "id": "view-in-github",
        "colab_type": "text"
      },
      "source": [
        "<a href=\"https://colab.research.google.com/github/kangqiwang/myLeetcode/blob/master/leetcode.ipynb\" target=\"_parent\"><img src=\"https://colab.research.google.com/assets/colab-badge.svg\" alt=\"Open In Colab\"/></a>"
      ]
    },
    {
      "cell_type": "code",
      "execution_count": null,
      "metadata": {
        "colab": {
          "base_uri": "https://localhost:8080/"
        },
        "id": "D0trsfQEn-3P",
        "outputId": "c3dc5399-6543-4de2-a106-7ec9d0156296"
      },
      "outputs": [
        {
          "output_type": "stream",
          "name": "stdout",
          "text": [
            "8\n"
          ]
        }
      ],
      "source": [
        "'''\n",
        "190. Reverse Bits\n",
        "\n",
        "Reverse bits of a given 32 bits unsigned integer.\n",
        "\n",
        "Note:\n",
        "\n",
        "Note that in some languages, such as Java,\n",
        "there is no unsigned integer type. In this case,\n",
        "both input and output will be given as a signed integer type.\n",
        "They should not affect your implementation, as the integer's internal binary representation is the same,\n",
        "whether it is signed or unsigned.\n",
        "In Java, the compiler represents the signed integers using 2's complement notation.\n",
        "Therefore, in Example 2 above,\n",
        "the input represents the signed integer -3 and the output represents the signed integer -1073741825.\n",
        "\n",
        "\n",
        "Example 1:\n",
        "\n",
        "Input: n = 00000010100101000001111010011100\n",
        "Output:    964176192 (00111001011110000010100101000000)\n",
        "Explanation: The input binary string 00000010100101000001111010011100 represents the unsigned integer 43261596, so return 964176192 which its binary representation is 00111001011110000010100101000000.\n",
        "Example 2:\n",
        "\n",
        "Input: n = 11111111111111111111111111111101\n",
        "Output:   3221225471 (10111111111111111111111111111111)\n",
        "Explanation: The input binary string 11111111111111111111111111111101 represents the unsigned integer 4294967293, so return 3221225471 which its binary representation is 10111111111111111111111111111111.\n",
        "\n",
        "'''\n",
        "def reverseBits( n) -> int:\n",
        "    res = 0\n",
        "    for _ in range(32):\n",
        "      res = (res<<1) + (n&1)\n",
        "      n>>=1\n",
        "    return res\n",
        "\n",
        "\n",
        "# reverseBits(0b00000010100101000001111010011100)\n",
        "print(4<<1)\n"
      ]
    },
    {
      "cell_type": "code",
      "source": [
        "'''\n",
        "70. Climbing Stairs\n",
        "\n",
        "You are climbing a staircase. It takes n steps to reach the top.\n",
        "\n",
        "Each time you can either climb 1 or 2 steps. In how many distinct ways can you climb to the top?\n",
        "\n",
        "\n",
        "\n",
        "Example 1:\n",
        "\n",
        "Input: n = 2\n",
        "Output: 2\n",
        "Explanation: There are two ways to climb to the top.\n",
        "1. 1 step + 1 step\n",
        "2. 2 steps\n",
        "Example 2:\n",
        "\n",
        "Input: n = 3\n",
        "Output: 3\n",
        "Explanation: There are three ways to climb to the top.\n",
        "1. 1 step + 1 step + 1 step\n",
        "2. 1 step + 2 steps\n",
        "3. 2 steps + 1 step\n",
        "\n",
        "--> store the distinct ways in a dynamic table\n",
        "climb =\n",
        "[climb(0), climb(1), climb(2)=climb(0)+climb(1), climb(3)=climb(2)+climb(1)\n",
        ",......climb(n)=climb(n-1)+climb(n-2)]\n",
        "\n",
        "dp = [ 0, 1, 2, 3, 5, dp(i-1)+dp(i-2])]\n",
        "\n",
        "return dp[n]\n",
        "\n",
        "fibonacci sequence\n",
        "\n",
        "0, 1, 1, 2, 3, 5, 8, 13, 21, 34\n",
        "'''\n",
        "\n",
        "def climbStairs(n: int) -> int:\n",
        "    if n==0: return 0\n",
        "    if n==1: return 1\n",
        "    if n==2: return 2\n",
        "    dp = [0]*(n+1) # considering zero steps we need n+1 places\n",
        "    print(dp)\n",
        "    dp[1]= 1\n",
        "    dp[2] = 2\n",
        "    for i in range(3,n+1):\n",
        "        dp[i] = dp[i-1] +dp[i-2]\n",
        "    print(dp)\n",
        "    return dp[n]\n",
        "\n",
        "climbStairs(10)"
      ],
      "metadata": {
        "colab": {
          "base_uri": "https://localhost:8080/"
        },
        "id": "AfHrI3ZlxBgK",
        "outputId": "5c52acd6-14f3-4d2c-ea08-9fa4aadcc638"
      },
      "execution_count": null,
      "outputs": [
        {
          "output_type": "stream",
          "name": "stdout",
          "text": [
            "[0, 0, 0, 0, 0, 0, 0, 0, 0, 0, 0]\n",
            "[0, 1, 2, 3, 5, 8, 13, 21, 34, 55, 89]\n"
          ]
        },
        {
          "output_type": "execute_result",
          "data": {
            "text/plain": [
              "89"
            ]
          },
          "metadata": {},
          "execution_count": 22
        }
      ]
    },
    {
      "cell_type": "code",
      "source": [
        "'''\n",
        "139. Word Break\n",
        "\n",
        "Given a string s and a dictionary of strings wordDict,\n",
        "return true if s can be segmented into a space-separated sequence of one or more dictionary words.\n",
        "\n",
        "Note that the same word in the dictionary may be reused multiple times in the segmentation.\n",
        "\n",
        "\n",
        "\n",
        "Example 1:\n",
        "\n",
        "Input: s = \"leetcode\", wordDict = [\"leet\",\"code\"]\n",
        "Output: true\n",
        "Explanation: Return true because \"leetcode\" can be segmented as \"leet code\".\n",
        "Example 2:\n",
        "\n",
        "Input: s = \"applepenapple\", wordDict = [\"apple\",\"pen\"]\n",
        "Output: true\n",
        "Explanation: Return true because \"applepenapple\" can be segmented as \"apple pen apple\".\n",
        "Note that you are allowed to reuse a dictionary word.\n",
        "Example 3:\n",
        "\n",
        "Input: s = \"catsandog\", wordDict = [\"cats\",\"dog\",\"sand\",\"and\",\"cat\"]\n",
        "Output: false\n",
        "'''\n",
        "\n",
        "def wordBreak(s: str, wordDict) -> bool:\n",
        "  n = len(s)\n",
        "  dp = [False] * (n + 1)\n",
        "  dp[0] = True\n",
        "  max_len = max(map(len, wordDict))  # The maximum length of a word in the dictionary\n",
        "\n",
        "  for i in range(1, n + 1):\n",
        "      for j in range(i - 1, max(i - max_len - 1, -1), -1): # Only consider words that could fit\n",
        "          if dp[j] and s[j:i] in wordDict:\n",
        "              dp[i] = True\n",
        "              break\n",
        "\n",
        "  return dp[n]\n",
        "wordBreak(\"applepenapple\",[\"apple\",\"pen\"])"
      ],
      "metadata": {
        "colab": {
          "base_uri": "https://localhost:8080/"
        },
        "id": "hlfhEdNk2I2K",
        "outputId": "e6847c5d-cffb-4aca-c727-3bed46de34b1"
      },
      "execution_count": null,
      "outputs": [
        {
          "output_type": "execute_result",
          "data": {
            "text/plain": [
              "True"
            ]
          },
          "metadata": {},
          "execution_count": 25
        }
      ]
    },
    {
      "cell_type": "code",
      "source": [
        "'''\n",
        "221. Maximal Square\n",
        "\n",
        "Given an m x n binary matrix filled with 0's and 1's, find the largest square containing only 1's and return its area.\n",
        "\n",
        "Input: matrix = [[\"1\",\"0\",\"1\",\"0\",\"0\"],[\"1\",\"0\",\"1\",\"1\",\"1\"],[\"1\",\"1\",\"1\",\"1\",\"1\"],[\"1\",\"0\",\"0\",\"1\",\"0\"]]\n",
        "Output: 4\n",
        "Example 2:\n",
        "\n",
        "\n",
        "Input: matrix = [[\"0\",\"1\"],[\"1\",\"0\"]]\n",
        "Output: 1\n",
        "Example 3:\n",
        "\n",
        "Input: matrix = [[\"0\"]]\n",
        "Output: 0\n",
        "\n",
        "\n",
        "Constraints:\n",
        "\n",
        "m == matrix.length\n",
        "n == matrix[i].length\n",
        "1 <= m, n <= 300\n",
        "matrix[i][j] is '0' or '1'.\n",
        "\n",
        "\n",
        "Recall from the brute force approach that the way we check for validity is by checking the outer border, i.e.:\n",
        "\n",
        "e.g. curr = 1, i.e. a valid 1 x 1 square exists (matrix[x][y] == '1').\n",
        "'O' is valid, check for 'X':\n",
        "X X\n",
        "X O\n",
        "To check for 'X', we would need to check if\n",
        "matrix[x-1][y] == '1',\n",
        "matrix[x][y-1] == '1' and\n",
        "matrix[x-1][y-1] == '1'.\n",
        "Except, because of the way the outer for loops were written,\n",
        "note that we have checked each of these before!\n",
        "To reach matrix[x][y] would require us to loop over the previous indexes,\n",
        "which include all of (x-1, y-1), (x-1, y) and (x, y-1).\n",
        "If any of the previous indexes are '0', then the maximal square that exists at (x, y) can only be a 1 x 1 square.\n",
        "\n",
        "Different possible combinations of maximal square sizes in a 2x2 matrix\n",
        "comb   0 0   1 0   0 1   0 0   0 0   1 1   1 0   1 0   0 1   0 1   0 0   1 1   1 1   1 0   0 1   1 1\n",
        "       0 0   0 0   0 0   1 0   0 1   0 0   1 0   0 1   1 0   0 1   1 1   1 0   0 1   1 1   1 1   1 1\n",
        "no 1s  -0-   ----------1----------   ----------------2----------------   ----------3----------   -4-\n",
        "size   -------------------------------------------1-------------------------------------------   -2-\n",
        "Note the length of the maximal square for each possible combination. This can be simplified and generalised to the following equation:\n",
        "\n",
        "\n",
        "Length of maximal square at:\n",
        "matrix[x-1][y-1]: a   matrix[x-1][y]: b\n",
        " matrix[x][y-1]: c           '1'\n",
        "Length of maximal square at matrix[x][y] (given matrix[x][y] == '1') is min(a, b, c) + 1\n",
        "\n",
        "Example matrix:\n",
        "0 0 1 1 1\n",
        "0 0 1 1 1\n",
        "0 1 1 1 1\n",
        "0 1 1 1 1\n",
        "Length of maximal sqaures at:\n",
        "\tmatrix[2][3] = 2x2\n",
        "\tmatrix[2][4] = 3x3\n",
        "\tmatrix[3][3] = 2x2\n",
        "\tmatrix[3][4] = min(2x2, 3x3, 2x2) + 1 = 2x2 + 1 = 3x3\n",
        "\n",
        "\n",
        "'''\n",
        "\n",
        "def maximalSquare( matrix) -> int:\n",
        "  m, n = len(matrix), len(matrix[0])\n",
        "  result = 0\n",
        "  dp = [[0]*n for _ in range(m)]  # dp[x][y] is the length of the maximal square at (x, y)\n",
        "\n",
        "  for i in range(m):\n",
        "      for j in range(n):\n",
        "          if matrix[i][j] == '1':\n",
        "              print(dp)\n",
        "            # ensure this condition first\n",
        "            # perform computation, mind border restrictions\n",
        "              dp[i][j] = min(dp[i-1][j] if i > 0 else 0,\n",
        "                              dp[i][j-1] if j > 0 else 0,\n",
        "                              dp[i-1][j-1] if i > 0 and j > 0 else 0) + 1\n",
        "              if dp[i][j] > result:\n",
        "                  result = dp[i][j]\n",
        "  return result*result\n",
        "\n",
        "# maximalSquare([[\"1\",\"1\",\"1\",\"1\",\"1\"],[\"1\",\"0\",\"1\",\"1\",\"1\"],[\"1\",\"1\",\"1\",\"1\",\"1\"],[\"1\",\"0\",\"0\",\"1\",\"0\"]])\n",
        "print([0]*3)"
      ],
      "metadata": {
        "colab": {
          "base_uri": "https://localhost:8080/"
        },
        "id": "DeoffZeY22Vp",
        "outputId": "ab735974-d1b1-453e-fa6e-681671edc07d"
      },
      "execution_count": null,
      "outputs": [
        {
          "output_type": "stream",
          "name": "stdout",
          "text": [
            "[0, 0, 0]\n"
          ]
        }
      ]
    },
    {
      "cell_type": "code",
      "source": [
        "'''\n",
        "322. Coin Change\n",
        "\n",
        "You are given an integer array coins representing coins of different denominations and an integer amount representing a total amount of money.\n",
        "\n",
        "Return the fewest number of coins that you need to make up that amount. If that amount of money cannot be made up by any combination of the coins, return -1.\n",
        "\n",
        "You may assume that you have an infinite number of each kind of coin.\n",
        "\n",
        "\n",
        "\n",
        "Example 1:\n",
        "\n",
        "Input: coins = [1,2,5], amount = 11\n",
        "Output: 3\n",
        "Explanation: 11 = 5 + 5 + 1\n",
        "\n",
        "Example 2:\n",
        "\n",
        "Input: coins = [2], amount = 3\n",
        "Output: -1\n",
        "Example 3:\n",
        "\n",
        "Input: coins = [1], amount = 0\n",
        "Output: 0\n",
        "\n",
        "\n",
        "Constraints:\n",
        "\n",
        "1 <= coins.length <= 12\n",
        "1 <= coins[i] <= 231 - 1\n",
        "0 <= amount <= 104\n",
        "\n",
        "\n",
        "method for DP\n",
        "'''\n",
        "import math\n",
        "def coinChange( coins, amount: int) -> int:\n",
        "  dp = [0] + [amount + 1] * amount\n",
        "  for coin in coins:\n",
        "    for i in range(coin, amount + 1):\n",
        "      dp[i] = min(dp[i], dp[i - coin] + 1)\n",
        "\n",
        "  return -1 if dp[amount] == amount + 1 else dp[amount]\n",
        "\n",
        "\n",
        "'''\n",
        "method for top-down (memoization) DP\n",
        "'''\n",
        "\n",
        "def coinChange( coins, amount: int) -> int:\n",
        "  mem={}\n",
        "\n",
        "  def helper(coins,amount)->int:\n",
        "    if amount in mem: return mem[amount]\n",
        "    if amount ==0:\n",
        "      mem[amount]=0\n",
        "      return 0\n",
        "    res=float('inf')\n",
        "    for coin in coins:\n",
        "      if coin <=amount:\n",
        "        temp=helper(coins,amount-coin)\n",
        "        if temp == -1:\n",
        "          continue\n",
        "        else:\n",
        "          res =min(temp+1,res)\n",
        "    if res == float('inf') :\n",
        "      mem[amount]=-1\n",
        "      return -1\n",
        "    mem[amount]=res\n",
        "    return res\n",
        "\n",
        "  return helper(coins,amount)\n",
        "\n",
        "coinChange([1,2,5],11)"
      ],
      "metadata": {
        "colab": {
          "base_uri": "https://localhost:8080/"
        },
        "id": "pD9JrRESFcjO",
        "outputId": "8bfe9693-4c2c-4a03-de08-9c15dcf71a40"
      },
      "execution_count": null,
      "outputs": [
        {
          "output_type": "execute_result",
          "data": {
            "text/plain": [
              "3"
            ]
          },
          "metadata": {},
          "execution_count": 3
        }
      ]
    },
    {
      "cell_type": "code",
      "source": [
        "'''\n",
        "300. Longest Increasing Subsequence\n",
        "\n",
        "Given an integer array nums, return the length of the longest strictly increasing\n",
        "subsequence\n",
        ".\n",
        "\n",
        "\n",
        "\n",
        "Example 1:\n",
        "\n",
        "Input: nums = [10,9,2,5,3,7,101,18]\n",
        "Output: 4\n",
        "Explanation: The longest increasing subsequence is [2,3,7,101], therefore the length is 4.\n",
        "Example 2:\n",
        "\n",
        "Input: nums = [0,1,0,3,2,3]\n",
        "Output: 4\n",
        "Example 3:\n",
        "\n",
        "Input: nums = [7,7,7,7,7,7,7]\n",
        "Output: 1\n",
        "\n",
        "'''\n",
        "def lengthOfLIS(nums) -> int:\n",
        "  N = len(nums)\n",
        "  dp = [1] * N\n",
        "\n",
        "  for i in range(N):\n",
        "      for j in range(i):\n",
        "          if nums[i] > nums[j]:\n",
        "              dp[i] = max(dp[i], dp[j] + 1)\n",
        "\n",
        "  return max(dp)\n",
        "\n",
        "lengthOfLIS([10,9,2,5,3,7,101,18])"
      ],
      "metadata": {
        "id": "ayzVEaWxd7XG",
        "colab": {
          "base_uri": "https://localhost:8080/"
        },
        "outputId": "1bab9f25-e42e-43f6-c63a-177a7b8b7d7e"
      },
      "execution_count": null,
      "outputs": [
        {
          "output_type": "execute_result",
          "data": {
            "text/plain": [
              "4"
            ]
          },
          "metadata": {},
          "execution_count": 3
        }
      ]
    },
    {
      "cell_type": "code",
      "source": [
        "'''\n",
        "9. Palindrome Number\n",
        "\n",
        "Given an integer x, return true if x is a\n",
        "palindrome\n",
        ", and false otherwise.\n",
        "\n",
        "\n",
        "\n",
        "Example 1:\n",
        "\n",
        "Input: x = 121\n",
        "Output: true\n",
        "Explanation: 121 reads as 121 from left to right and from right to left.\n",
        "Example 2:\n",
        "\n",
        "Input: x = -121\n",
        "Output: false\n",
        "Explanation: From left to right, it reads -121. From right to left, it becomes 121-. Therefore it is not a palindrome.\n",
        "Example 3:\n",
        "\n",
        "Input: x = 10\n",
        "Output: false\n",
        "Explanation: Reads 01 from right to left. Therefore it is not a palindrome.\n",
        "\n",
        "'''\n",
        "def isPalindrome(x: int) -> bool:\n",
        "  if x<0:\n",
        "    return False\n",
        "  reversed_num =0\n",
        "  temp =x\n",
        "  while temp!=0:\n",
        "    digit=temp%10\n",
        "    reversed_num = reversed_num*10 +digit\n",
        "    temp //=10\n",
        "  return reversed_num ==x\n",
        "isPalindrome(121)\n"
      ],
      "metadata": {
        "colab": {
          "base_uri": "https://localhost:8080/"
        },
        "id": "wuopmKUK410d",
        "outputId": "2bcfb3bc-b6af-4304-cc6f-244aa309de10"
      },
      "execution_count": null,
      "outputs": [
        {
          "output_type": "execute_result",
          "data": {
            "text/plain": [
              "True"
            ]
          },
          "metadata": {},
          "execution_count": 13
        }
      ]
    },
    {
      "cell_type": "code",
      "source": [
        "'''\n",
        "66. Plus One\n",
        "\n",
        "Example 1:\n",
        "\n",
        "Input: digits = [1,2,3]\n",
        "Output: [1,2,4]\n",
        "Explanation: The array represents the integer 123.\n",
        "Incrementing by one gives 123 + 1 = 124.\n",
        "Thus, the result should be [1,2,4].\n",
        "Example 2:\n",
        "\n",
        "Input: digits = [4,3,2,1]\n",
        "Output: [4,3,2,2]\n",
        "Explanation: The array represents the integer 4321.\n",
        "Incrementing by one gives 4321 + 1 = 4322.\n",
        "Thus, the result should be [4,3,2,2].\n",
        "Example 3:\n",
        "\n",
        "Input: digits = [9]\n",
        "Output: [1,0]\n",
        "Explanation: The array represents the integer 9.\n",
        "Incrementing by one gives 9 + 1 = 10.\n",
        "Thus, the result should be [1,0].\n",
        "\n",
        "'''\n",
        "def plusOne(digits):\n",
        "    for i in range(len(digits)-1,-1,-1):\n",
        "      print(digits[i])\n",
        "      if digits[i] ==9:\n",
        "          digits[i] =0\n",
        "      else:\n",
        "          digits[i]=digits[i]+1\n",
        "          return digits\n",
        "    return [1]+digits\n",
        "\n",
        "  # nums=int(''.join(str(x) for x in digits))\n",
        "  # nums+=1\n",
        "  # return [int(x) for x in str(nums)]\n",
        "plusOne([1,2,9])"
      ],
      "metadata": {
        "id": "jWrunDeaE7Xj"
      },
      "execution_count": null,
      "outputs": []
    },
    {
      "cell_type": "code",
      "source": [
        "'''\n",
        "You are given the heads of two sorted linked lists list1 and list2.\n",
        "\n",
        "Merge the two lists into one sorted list. The list should be made by splicing together the nodes of the first two lists.\n",
        "\n",
        "Return the head of the merged linked list.\n",
        "\n",
        "\n",
        "\n",
        "Example 1:\n",
        "\n",
        "\n",
        "Input: list1 = [1,2,4], list2 = [1,3,4]\n",
        "Output: [1,1,2,3,4,4]\n",
        "Example 2:\n",
        "\n",
        "Input: list1 = [], list2 = []\n",
        "Output: []\n",
        "Example 3:\n",
        "\n",
        "Input: list1 = [], list2 = [0]\n",
        "Output: [0]\n",
        "\n",
        "\n",
        "Constraints:\n",
        "\n",
        "The number of nodes in both lists is in the range [0, 50].\n",
        "-100 <= Node.val <= 100\n",
        "Both list1 and list2 are sorted in non-decreasing order.\n",
        "\n",
        "'''\n",
        "class ListNode:\n",
        "    def __init__(self, val=0, next=None):\n",
        "        self.val = val\n",
        "        self.next = next\n",
        "\n",
        "\n",
        "def mergeTwoLists(list1,list2):\n",
        "  cur=dummy = ListNode()\n",
        "  while list1 and list2:\n",
        "    if list1.val >list2.val:\n",
        "      cur.next= list1.next\n",
        "      list1,cur = list1.next,list1\n",
        "    else:\n",
        "      cur.next = list2.next\n",
        "      list2,cur= list2.next,list2\n",
        "  return dummy.next\n",
        "\n",
        "\n"
      ],
      "metadata": {
        "id": "iHVrQBJ9Dt2-"
      },
      "execution_count": null,
      "outputs": []
    },
    {
      "cell_type": "code",
      "source": [
        "'''\n",
        "88. Merge Sorted Array\n",
        "\n",
        "You are given two integer arrays nums1 and nums2,\n",
        "sorted in non-decreasing order, and two integers m and n, representing the number of elements in nums1 and nums2 respectively.\n",
        "\n",
        "Merge nums1 and nums2 into a single array sorted in non-decreasing order.\n",
        "\n",
        "The final sorted array should not be returned by the function, but instead be stored inside the array nums1.\n",
        "To accommodate this, nums1 has a length of m + n, where the first m elements denote the elements that should be merged,\n",
        "and the last n elements are set to 0 and should be ignored. nums2 has a length of n.\n",
        "\n",
        "\n",
        "Example 1:\n",
        "\n",
        "Input: nums1 = [1,2,3,0,0,0], m = 3, nums2 = [2,5,6], n = 3\n",
        "Output: [1,2,2,3,5,6]\n",
        "Explanation: The arrays we are merging are [1,2,3] and [2,5,6].\n",
        "The result of the merge is [1,2,2,3,5,6] with the underlined elements coming from nums1.\n",
        "Example 2:\n",
        "\n",
        "Input: nums1 = [1], m = 1, nums2 = [], n = 0\n",
        "Output: [1]\n",
        "Explanation: The arrays we are merging are [1] and [].\n",
        "The result of the merge is [1].\n",
        "Example 3:\n",
        "\n",
        "Input: nums1 = [0], m = 0, nums2 = [1], n = 1\n",
        "Output: [1]\n",
        "Explanation: The arrays we are merging are [] and [1].\n",
        "The result of the merge is [1].\n",
        "Note that because m = 0, there are no elements in nums1. The 0 is only there to ensure the merge result can fit in nums1.\n",
        "\n",
        "2 pointer to deal with it\n",
        "\n",
        "'''\n",
        "def merge(nums1, m: int, nums2, n: int) -> None:\n",
        "  i=m-1\n",
        "  j=n-1\n",
        "  k=m+n-1\n",
        "  while i>=0 and j>=0:\n",
        "    if nums1[i]>nums2[j]:\n",
        "      nums1[k]=nums1[i]\n",
        "      i-=1\n",
        "    else:\n",
        "      nums1[k]=nums2[j]\n",
        "      j-=1\n",
        "    k-=1\n",
        "  print(nums1)\n",
        "merge([1,2,3,0,0,0],3,[2,5,6],3)"
      ],
      "metadata": {
        "colab": {
          "base_uri": "https://localhost:8080/"
        },
        "id": "pGhUf4n-He9i",
        "outputId": "fe9c1373-73bc-4377-97c4-fc875593e2fd"
      },
      "execution_count": null,
      "outputs": [
        {
          "output_type": "stream",
          "name": "stdout",
          "text": [
            "[1, 2, 2, 3, 5, 6]\n"
          ]
        }
      ]
    },
    {
      "cell_type": "markdown",
      "source": [],
      "metadata": {
        "id": "tdzwySm4Hey8"
      }
    },
    {
      "cell_type": "code",
      "source": [
        "'''\n",
        "\n",
        "123. Best Time to Buy and Sell Stock III\n",
        "\n",
        "You are given an array prices where prices[i] is the price of a given stock on the ith day.\n",
        "\n",
        "Find the maximum profit you can achieve. You may complete at most two transactions.\n",
        "\n",
        "Note: You may not engage in multiple transactions simultaneously (i.e., you must sell the stock before you buy again).\n",
        "\n",
        "\n",
        "\n",
        "Example 1:\n",
        "\n",
        "Input: prices = [3,3,5,0,0,3,1,4]\n",
        "Output: 6\n",
        "Explanation: Buy on day 4 (price = 0) and sell on day 6 (price = 3), profit = 3-0 = 3.\n",
        "Then buy on day 7 (price = 1) and sell on day 8 (price = 4), profit = 4-1 = 3.\n",
        "Example 2:\n",
        "\n",
        "Input: prices = [1,2,3,4,5]\n",
        "Output: 4\n",
        "Explanation: Buy on day 1 (price = 1) and sell on day 5 (price = 5), profit = 5-1 = 4.\n",
        "Note that you cannot buy on day 1, buy on day 2 and sell them later, as you are engaging multiple transactions at the same time. You must sell before buying again.\n",
        "Example 3:\n",
        "\n",
        "Input: prices = [7,6,4,3,1]\n",
        "Output: 0\n",
        "Explanation: In this case, no transaction is done, i.e. max profit = 0.\n",
        "\n",
        "consider about most 2 transactions\n",
        "\n",
        "\n",
        "buy1 - the minimum price seen so far for the first transaction\n",
        "sell1 - the maximum profit seen so far for the first transaction\n",
        "buy2 - the minimum price seen so far for the second transaction, taking into account the profit from the first transaction\n",
        "sell2 - the maximum profit seen so far for the second transaction\n",
        "At the end of the iteration, the value of sell2 is returned as the maximum profit achievable with two transactions.\n",
        "\n",
        "The if not prices check is included to handle the edge case where the input array is empty.\n",
        "\n",
        "Here's how the algorithm works step by step for the input [3,3,5,0,0,3,1,4]:\n",
        "\n",
        "Initialize buy1, buy2, sell1, and sell2 to inf, inf, 0, and 0, respectively.\n",
        "For the first price of 3, update buy1 to 3, sell1 to 0, buy2 to -3, and sell2 to 0.\n",
        "\n",
        "For the second price of 3, update buy1 to 3, sell1 to 0, buy2 to -3, and sell2 to 0 (no change).\n",
        "\n",
        "For the third price of 5, update buy1 to 3, sell1 to 2, buy2 to -1, and sell2 to 2.\n",
        "\n",
        "For the fourth price of 0, update buy1 to 0, sell1 to 2, buy2 to -1, and sell2 to 2 (no change).\n",
        "\n",
        "For the fifth price of 0, update buy1 to 0, sell1 to 2, buy2 to -2, and sell2 to 2 (no change).\n",
        "\n",
        "For the sixth price of 3, update buy1 to 0, sell1 to 3, buy2 to 0, and sell2 to 3.\n",
        "\n",
        "For the seventh price of 1, update buy1 to 0, sell1 to 3, buy2 to -3, and sell2 to 3 (no change).\n",
        "\n",
        "For the eighth price of 4, update buy1 to 0, sell1 to 4, buy2 to 0, and sell2 to 4\n",
        "\n",
        "\n",
        "\n",
        "'''\n",
        "def maxProfit(prices) -> int:\n",
        "\n",
        "  if not prices:\n",
        "    return 0\n",
        "  buy1,buy2 = float('inf'),float('inf')\n",
        "  sell1,sell2=0,0\n",
        "\n",
        "  for price in prices:\n",
        "    buy1 = min(buy1,price)\n",
        "    sell1=max(sell1,price-buy1)\n",
        "    print(price-sell1)\n",
        "    buy2 = min(buy2,price-sell1)\n",
        "    sell2=max(sell2,price-buy2)\n",
        "\n",
        "  return sell2\n",
        "\n",
        "maxProfit([3,3,5,0,0,3,1,4])\n"
      ],
      "metadata": {
        "colab": {
          "base_uri": "https://localhost:8080/"
        },
        "id": "KaR0vkfavbcC",
        "outputId": "a6606705-b770-4bff-b054-5ced6b9f3d17"
      },
      "execution_count": null,
      "outputs": [
        {
          "output_type": "stream",
          "name": "stdout",
          "text": [
            "3\n",
            "3\n",
            "3\n",
            "-2\n",
            "-2\n",
            "0\n",
            "-2\n",
            "0\n"
          ]
        },
        {
          "output_type": "execute_result",
          "data": {
            "text/plain": [
              "6"
            ]
          },
          "metadata": {},
          "execution_count": 6
        }
      ]
    },
    {
      "cell_type": "code",
      "source": [],
      "metadata": {
        "id": "AdyuUpk-aNV9"
      },
      "execution_count": null,
      "outputs": []
    }
  ]
}